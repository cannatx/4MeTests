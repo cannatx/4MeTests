{
 "cells": [
  {
   "cell_type": "code",
   "execution_count": 4,
   "metadata": {},
   "outputs": [],
   "source": [
    "def _my_documented_function(my_output: str = \"default_string\") -> None:\n",
    "    \"\"\"This is my supercool function\"\"\"\n",
    "    print(my_output)"
   ]
  },
  {
   "attachments": {},
   "cell_type": "markdown",
   "metadata": {},
   "source": [
    "### Se puede llamar la documentación de una función con el atributo `__doc__`"
   ]
  },
  {
   "cell_type": "code",
   "execution_count": 5,
   "metadata": {},
   "outputs": [
    {
     "data": {
      "text/plain": [
       "'This is my supercool function'"
      ]
     },
     "execution_count": 5,
     "metadata": {},
     "output_type": "execute_result"
    }
   ],
   "source": [
    "_my_documented_function.__doc__"
   ]
  },
  {
   "cell_type": "code",
   "execution_count": 6,
   "metadata": {},
   "outputs": [
    {
     "data": {
      "text/plain": [
       "'Return a new list containing all items from the iterable in ascending order.\\n\\nA custom key function can be supplied to customize the sort order, and the\\nreverse flag can be set to request the result in descending order.'"
      ]
     },
     "execution_count": 6,
     "metadata": {},
     "output_type": "execute_result"
    }
   ],
   "source": [
    "sorted.__doc__"
   ]
  },
  {
   "attachments": {},
   "cell_type": "markdown",
   "metadata": {},
   "source": [
    "### Variable length Arguments\n",
    " `*args` permite definir que la función puede ser invocada con cualquier cantidad de argumentos"
   ]
  },
  {
   "cell_type": "code",
   "execution_count": 8,
   "metadata": {},
   "outputs": [
    {
     "name": "stdout",
     "output_type": "stream",
     "text": [
      "<class 'tuple'>\n",
      "()\n",
      "<class 'tuple'>\n",
      "('String',)\n",
      "<class 'tuple'>\n",
      "('string', 1)\n",
      "<class 'tuple'>\n",
      "(1, 2, 3, 4)\n",
      "<class 'tuple'>\n",
      "([1, 2, 3, 4],)\n"
     ]
    }
   ],
   "source": [
    "def my_custom_print(*args):\n",
    "    \"\"\"\"\"\"\n",
    "    args_type = type(args)\n",
    "    print(args_type)\n",
    "    print(args)\n",
    "\n",
    "my_custom_print()\n",
    "my_custom_print(\"String\")\n",
    "my_custom_print(\"string\", 1)\n",
    "my_custom_print(1,2,3,4)\n",
    "my_custom_print([1,2,3,4])"
   ]
  },
  {
   "cell_type": "code",
   "execution_count": 12,
   "metadata": {},
   "outputs": [
    {
     "name": "stdout",
     "output_type": "stream",
     "text": [
      "new call of function\n",
      "<class 'tuple'>\n",
      "new call of function\n",
      "<class 'tuple'>\n",
      "<class 'str'>\n",
      "String\n",
      "new call of function\n",
      "<class 'tuple'>\n",
      "<class 'str'>\n",
      "string\n",
      "<class 'int'>\n",
      "1\n",
      "new call of function\n",
      "<class 'tuple'>\n",
      "<class 'int'>\n",
      "1\n",
      "<class 'int'>\n",
      "2\n",
      "<class 'int'>\n",
      "3\n",
      "<class 'int'>\n",
      "4\n",
      "new call of function\n",
      "<class 'tuple'>\n",
      "<class 'list'>\n",
      "[1, 2, 3, 4]\n"
     ]
    }
   ],
   "source": [
    "def my_custom_print(*args):\n",
    "    \"\"\"\"\"\"\n",
    "    print(\"new call of function\")\n",
    "    args_type = type(args)\n",
    "    print(args_type)\n",
    "    for i in args:\n",
    "        print(type(i))\n",
    "        print(i)\n",
    "\n",
    "my_custom_print()\n",
    "my_custom_print(\"String\")\n",
    "my_custom_print(\"string\", 1)\n",
    "my_custom_print(1,2,3,4)\n",
    "my_custom_print([1,2,3,4])\n"
   ]
  },
  {
   "cell_type": "code",
   "execution_count": 13,
   "metadata": {},
   "outputs": [
    {
     "name": "stdout",
     "output_type": "stream",
     "text": [
      "College:  Hardvard\n",
      "City:  Boston\n",
      "Students:  ('uno', 'dos', 'tres')\n"
     ]
    }
   ],
   "source": [
    "def students_in_college(college, city, *students):\n",
    "    \"\"\"\"\"\"\n",
    "    print(\"College: \", college)\n",
    "    print(\"City: \", city)\n",
    "    print(\"Students: \", students)\n",
    "\n",
    "students_in_college(\"Hardvard\", \"Boston\", \"uno\", \"dos\", \"tres\")"
   ]
  },
  {
   "attachments": {},
   "cell_type": "markdown",
   "metadata": {},
   "source": [
    "#### `**args`\n",
    "En logar de meter los argumentos en un tuple los mete en un diccionario\n",
    "\n"
   ]
  },
  {
   "cell_type": "code",
   "execution_count": 15,
   "metadata": {},
   "outputs": [
    {
     "name": "stdout",
     "output_type": "stream",
     "text": [
      "<class 'dict'>\n",
      "{'name': 'Nacho', 'edad': 43, 'ciudad': 'Madrid'}\n",
      "name Nacho\n",
      "edad 43\n",
      "ciudad Madrid\n"
     ]
    },
    {
     "ename": "TypeError",
     "evalue": "student_details() takes 0 positional arguments but 1 was given",
     "output_type": "error",
     "traceback": [
      "\u001b[1;31m---------------------------------------------------------------------------\u001b[0m",
      "\u001b[1;31mTypeError\u001b[0m                                 Traceback (most recent call last)",
      "Cell \u001b[1;32mIn[15], line 17\u001b[0m\n\u001b[0;32m      9\u001b[0m student_details(name\u001b[39m=\u001b[39m\u001b[39m\"\u001b[39m\u001b[39mNacho\u001b[39m\u001b[39m\"\u001b[39m, edad\u001b[39m=\u001b[39m\u001b[39m43\u001b[39m, ciudad\u001b[39m=\u001b[39m\u001b[39m\"\u001b[39m\u001b[39mMadrid\u001b[39m\u001b[39m\"\u001b[39m)\n\u001b[0;32m     11\u001b[0m details \u001b[39m=\u001b[39m {\n\u001b[0;32m     12\u001b[0m     \u001b[39m\"\u001b[39m\u001b[39mnombre\u001b[39m\u001b[39m\"\u001b[39m: \u001b[39m\"\u001b[39m\u001b[39mNacho\u001b[39m\u001b[39m\"\u001b[39m,\n\u001b[0;32m     13\u001b[0m     \u001b[39m\"\u001b[39m\u001b[39medad\u001b[39m\u001b[39m\"\u001b[39m: \u001b[39m43\u001b[39m,\n\u001b[0;32m     14\u001b[0m     \u001b[39m\"\u001b[39m\u001b[39mciudad\u001b[39m\u001b[39m\"\u001b[39m: \u001b[39m\"\u001b[39m\u001b[39mMadrid\u001b[39m\u001b[39m\"\u001b[39m\n\u001b[0;32m     15\u001b[0m }\n\u001b[1;32m---> 17\u001b[0m student_details(details)\n",
      "\u001b[1;31mTypeError\u001b[0m: student_details() takes 0 positional arguments but 1 was given"
     ]
    }
   ],
   "source": [
    "def student_details(**args):\n",
    "    \"\"\"\"\"\"\n",
    "    print(type(args))\n",
    "    print(args)\n",
    "\n",
    "    for key, value in args.items():\n",
    "        print(key, value)\n",
    "\n",
    "student_details(name=\"Nacho\", edad=43, ciudad=\"Madrid\")\n",
    "\n",
    "details = {\n",
    "    \"nombre\": \"Nacho\",\n",
    "    \"edad\": 43,\n",
    "    \"ciudad\": \"Madrid\"\n",
    "}\n",
    "\n",
    "student_details(details)"
   ]
  },
  {
   "attachments": {},
   "cell_type": "markdown",
   "metadata": {},
   "source": [
    "Para poder pasarle directamente un diccionario como argumentois hay que volver a usar los `**`"
   ]
  },
  {
   "cell_type": "code",
   "execution_count": 16,
   "metadata": {},
   "outputs": [
    {
     "name": "stdout",
     "output_type": "stream",
     "text": [
      "<class 'dict'>\n",
      "{'nombre': 'Nacho', 'edad': 43, 'ciudad': 'Madrid'}\n",
      "nombre Nacho\n",
      "edad 43\n",
      "ciudad Madrid\n"
     ]
    }
   ],
   "source": [
    "student_details(**details)"
   ]
  },
  {
   "cell_type": "code",
   "execution_count": 17,
   "metadata": {},
   "outputs": [
    {
     "name": "stdout",
     "output_type": "stream",
     "text": [
      "Student name is Nacho\n"
     ]
    }
   ],
   "source": [
    "def new_student_details(**details):\n",
    "    \"\"\"\"\"\"\n",
    "    if \"nombre\" in details:\n",
    "        print(f\"Student name is {details.get('nombre')}\")\n",
    "    \n",
    "    if \"pasatiempos\" in details:\n",
    "        print(f\"Pasa el tiempo haciendo {details.get('pasatiempos')}\")\n",
    "\n",
    "new_student_details(**details)"
   ]
  },
  {
   "attachments": {},
   "cell_type": "markdown",
   "metadata": {},
   "source": [
    "Se pueden combinar"
   ]
  },
  {
   "cell_type": "code",
   "execution_count": 19,
   "metadata": {},
   "outputs": [
    {
     "name": "stdout",
     "output_type": "stream",
     "text": [
      "Students:\n",
      "Fulanito\n",
      "el otro\n",
      "Bartolo\n",
      "\n",
      "College Details:\n",
      "name Standford\n",
      "city Palo Alto\n"
     ]
    }
   ],
   "source": [
    "def students_in_college(*student_names, **college_details):\n",
    "    \"\"\"\"\"\"\n",
    "    print(\"Students:\")\n",
    "    for s in student_names:\n",
    "        print(s)\n",
    "    \n",
    "    print(\"\\nCollege Details:\")\n",
    "    for key, value in college_details.items():\n",
    "        print(key, value)\n",
    "\n",
    "students_in_college(\"Fulanito\", \"el otro\", \"Bartolo\", name=\"Standford\", city=\"Palo Alto\")"
   ]
  }
 ],
 "metadata": {
  "kernelspec": {
   "display_name": "venv",
   "language": "python",
   "name": "python3"
  },
  "language_info": {
   "codemirror_mode": {
    "name": "ipython",
    "version": 3
   },
   "file_extension": ".py",
   "mimetype": "text/x-python",
   "name": "python",
   "nbconvert_exporter": "python",
   "pygments_lexer": "ipython3",
   "version": "3.8.2"
  },
  "orig_nbformat": 4
 },
 "nbformat": 4,
 "nbformat_minor": 2
}
