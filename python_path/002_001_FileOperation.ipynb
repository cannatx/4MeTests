{
 "cells": [
  {
   "cell_type": "code",
   "execution_count": null,
   "metadata": {},
   "outputs": [],
   "source": []
  },
  {
   "cell_type": "code",
   "execution_count": null,
   "metadata": {},
   "outputs": [],
   "source": []
  },
  {
   "cell_type": "code",
   "execution_count": null,
   "metadata": {},
   "outputs": [],
   "source": []
  },
  {
   "cell_type": "code",
   "execution_count": 2,
   "metadata": {},
   "outputs": [
    {
     "name": "stdout",
     "output_type": "stream",
     "text": [
      "import datetime\n",
      "import random\n",
      "\n",
      "from dateutil.relativedelta import relativedelta\n",
      "\n",
      "\n",
      "def make_highlighted(func):\n",
      "    annotations = [\"-\", \"*\", \"+\"]\n",
      "    annotate = random.choice(annotations)\n",
      "\n",
      "    def highlight(*args):\n",
      "        print(annotate * 50)\n",
      "        func(*args)\n",
      "        print(annotate * 50)\n",
      "\n",
      "    return highlight\n",
      "\n",
      "\n",
      "@make_highlighted\n",
      "def print_any_message(message=\"\"):\n",
      "    print(message)\n",
      "\n",
      "\n",
      "print_any_message(\"now i undestand decorators\")\n",
      "print_any_message(\"maybe\")\n",
      "\n",
      "\n",
      "class Person:\n",
      "    def __init__(self, **args):\n",
      "        self.name = args.get(\"name\")\n",
      "        self.surname = args.get(\"surname\")\n",
      "        # self.years = args.get(\"years\")\n",
      "        self.birth_date = args.get(\"birth_date\")\n",
      "        if self.birth_date:\n",
      "            self.get_old()\n",
      "\n",
      "    def get_old(self):\n",
      "        self.birth_date = datetime.datetime.strptime(self.birth_date, \"%d/%m/%y\")\n",
      "        self.today = datetime.datetime.today()\n",
      "        self.delta = relativedelta(self.today, self.birth_date)\n",
      "        self.years_old = self.delta.years\n",
      "\n",
      "\n",
      "nacho = Person(name=\"Nacho\", birth_date=\"01/07/79\")\n",
      "print(nacho.years_old)\n"
     ]
    }
   ],
   "source": [
    "!more test1.py"
   ]
  },
  {
   "cell_type": "code",
   "execution_count": 3,
   "metadata": {},
   "outputs": [
    {
     "data": {
      "text/plain": [
       "<_io.TextIOWrapper name='test1.py' mode='r' encoding='cp1252'>"
      ]
     },
     "execution_count": 3,
     "metadata": {},
     "output_type": "execute_result"
    }
   ],
   "source": [
    "open(\"test1.py\")"
   ]
  },
  {
   "cell_type": "code",
   "execution_count": 4,
   "metadata": {},
   "outputs": [],
   "source": [
    "file = open(\"test1.py\")"
   ]
  },
  {
   "cell_type": "code",
   "execution_count": 5,
   "metadata": {},
   "outputs": [
    {
     "data": {
      "text/plain": [
       "False"
      ]
     },
     "execution_count": 5,
     "metadata": {},
     "output_type": "execute_result"
    }
   ],
   "source": [
    "file.closed"
   ]
  },
  {
   "cell_type": "code",
   "execution_count": 7,
   "metadata": {},
   "outputs": [
    {
     "data": {
      "text/plain": [
       "True"
      ]
     },
     "execution_count": 7,
     "metadata": {},
     "output_type": "execute_result"
    }
   ],
   "source": [
    "file.close()\n",
    "file.closed"
   ]
  },
  {
   "cell_type": "code",
   "execution_count": 8,
   "metadata": {},
   "outputs": [
    {
     "data": {
      "text/plain": [
       "'import datetime\\nimport random\\n\\nfrom dateutil.relativedelta import relativedelta\\n\\n\\ndef make_highlighted(func):\\n    annotations = [\"-\", \"*\", \"+\"]\\n    annotate = random.choice(annotations)\\n\\n    def highlight(*args):\\n        print(annotate * 50)\\n        func(*args)\\n        print(annotate * 50)\\n\\n    return highlight\\n\\n\\n@make_highlighted\\ndef print_any_message(message=\"\"):\\n    print(message)\\n\\n\\nprint_any_message(\"now i undestand decorators\")\\nprint_any_message(\"maybe\")\\n\\n\\nclass Person:\\n    def __init__(self, **args):\\n        self.name = args.get(\"name\")\\n        self.surname = args.get(\"surname\")\\n        # self.years = args.get(\"years\")\\n        self.birth_date = args.get(\"birth_date\")\\n        if self.birth_date:\\n            self.get_old()\\n\\n    def get_old(self):\\n        self.birth_date = datetime.datetime.strptime(self.birth_date, \"%d/%m/%y\")\\n        self.today = datetime.datetime.today()\\n        self.delta = relativedelta(self.today, self.birth_date)\\n        self.years_old = self.delta.years\\n\\n\\nnacho = Person(name=\"Nacho\", birth_date=\"01/07/79\")\\nprint(nacho.years_old)\\n'"
      ]
     },
     "execution_count": 8,
     "metadata": {},
     "output_type": "execute_result"
    }
   ],
   "source": [
    "file = open(\"test1.py\")\n",
    "file.read()"
   ]
  },
  {
   "cell_type": "code",
   "execution_count": 14,
   "metadata": {},
   "outputs": [
    {
     "data": {
      "text/plain": [
       "1118"
      ]
     },
     "execution_count": 14,
     "metadata": {},
     "output_type": "execute_result"
    }
   ],
   "source": [
    "file.tell()"
   ]
  },
  {
   "cell_type": "code",
   "execution_count": 17,
   "metadata": {},
   "outputs": [
    {
     "data": {
      "text/plain": [
       "'import datetime\\n'"
      ]
     },
     "execution_count": 17,
     "metadata": {},
     "output_type": "execute_result"
    }
   ],
   "source": [
    "file.seek(0)\n",
    "file.readline()"
   ]
  },
  {
   "cell_type": "code",
   "execution_count": 18,
   "metadata": {},
   "outputs": [
    {
     "data": {
      "text/plain": [
       "['import random\\n',\n",
       " '\\n',\n",
       " 'from dateutil.relativedelta import relativedelta\\n',\n",
       " '\\n',\n",
       " '\\n',\n",
       " 'def make_highlighted(func):\\n',\n",
       " '    annotations = [\"-\", \"*\", \"+\"]\\n',\n",
       " '    annotate = random.choice(annotations)\\n',\n",
       " '\\n',\n",
       " '    def highlight(*args):\\n',\n",
       " '        print(annotate * 50)\\n',\n",
       " '        func(*args)\\n',\n",
       " '        print(annotate * 50)\\n',\n",
       " '\\n',\n",
       " '    return highlight\\n',\n",
       " '\\n',\n",
       " '\\n',\n",
       " '@make_highlighted\\n',\n",
       " 'def print_any_message(message=\"\"):\\n',\n",
       " '    print(message)\\n',\n",
       " '\\n',\n",
       " '\\n',\n",
       " 'print_any_message(\"now i undestand decorators\")\\n',\n",
       " 'print_any_message(\"maybe\")\\n',\n",
       " '\\n',\n",
       " '\\n',\n",
       " 'class Person:\\n',\n",
       " '    def __init__(self, **args):\\n',\n",
       " '        self.name = args.get(\"name\")\\n',\n",
       " '        self.surname = args.get(\"surname\")\\n',\n",
       " '        # self.years = args.get(\"years\")\\n',\n",
       " '        self.birth_date = args.get(\"birth_date\")\\n',\n",
       " '        if self.birth_date:\\n',\n",
       " '            self.get_old()\\n',\n",
       " '\\n',\n",
       " '    def get_old(self):\\n',\n",
       " '        self.birth_date = datetime.datetime.strptime(self.birth_date, \"%d/%m/%y\")\\n',\n",
       " '        self.today = datetime.datetime.today()\\n',\n",
       " '        self.delta = relativedelta(self.today, self.birth_date)\\n',\n",
       " '        self.years_old = self.delta.years\\n',\n",
       " '\\n',\n",
       " '\\n',\n",
       " 'nacho = Person(name=\"Nacho\", birth_date=\"01/07/79\")\\n',\n",
       " 'print(nacho.years_old)\\n']"
      ]
     },
     "execution_count": 18,
     "metadata": {},
     "output_type": "execute_result"
    }
   ],
   "source": [
    "file.readlines()"
   ]
  },
  {
   "cell_type": "code",
   "execution_count": 19,
   "metadata": {},
   "outputs": [],
   "source": [
    "file.close()"
   ]
  },
  {
   "cell_type": "code",
   "execution_count": 20,
   "metadata": {},
   "outputs": [],
   "source": [
    "with open(\"test1.py\") as f:\n",
    "    data = f.readlines()"
   ]
  },
  {
   "cell_type": "code",
   "execution_count": 21,
   "metadata": {},
   "outputs": [
    {
     "data": {
      "text/plain": [
       "['import datetime\\n',\n",
       " 'import random\\n',\n",
       " '\\n',\n",
       " 'from dateutil.relativedelta import relativedelta\\n',\n",
       " '\\n',\n",
       " '\\n',\n",
       " 'def make_highlighted(func):\\n',\n",
       " '    annotations = [\"-\", \"*\", \"+\"]\\n',\n",
       " '    annotate = random.choice(annotations)\\n',\n",
       " '\\n',\n",
       " '    def highlight(*args):\\n',\n",
       " '        print(annotate * 50)\\n',\n",
       " '        func(*args)\\n',\n",
       " '        print(annotate * 50)\\n',\n",
       " '\\n',\n",
       " '    return highlight\\n',\n",
       " '\\n',\n",
       " '\\n',\n",
       " '@make_highlighted\\n',\n",
       " 'def print_any_message(message=\"\"):\\n',\n",
       " '    print(message)\\n',\n",
       " '\\n',\n",
       " '\\n',\n",
       " 'print_any_message(\"now i undestand decorators\")\\n',\n",
       " 'print_any_message(\"maybe\")\\n',\n",
       " '\\n',\n",
       " '\\n',\n",
       " 'class Person:\\n',\n",
       " '    def __init__(self, **args):\\n',\n",
       " '        self.name = args.get(\"name\")\\n',\n",
       " '        self.surname = args.get(\"surname\")\\n',\n",
       " '        # self.years = args.get(\"years\")\\n',\n",
       " '        self.birth_date = args.get(\"birth_date\")\\n',\n",
       " '        if self.birth_date:\\n',\n",
       " '            self.get_old()\\n',\n",
       " '\\n',\n",
       " '    def get_old(self):\\n',\n",
       " '        self.birth_date = datetime.datetime.strptime(self.birth_date, \"%d/%m/%y\")\\n',\n",
       " '        self.today = datetime.datetime.today()\\n',\n",
       " '        self.delta = relativedelta(self.today, self.birth_date)\\n',\n",
       " '        self.years_old = self.delta.years\\n',\n",
       " '\\n',\n",
       " '\\n',\n",
       " 'nacho = Person(name=\"Nacho\", birth_date=\"01/07/79\")\\n',\n",
       " 'print(nacho.years_old)\\n']"
      ]
     },
     "execution_count": 21,
     "metadata": {},
     "output_type": "execute_result"
    }
   ],
   "source": [
    "data"
   ]
  },
  {
   "cell_type": "code",
   "execution_count": 27,
   "metadata": {},
   "outputs": [],
   "source": [
    "new_file = open(\"testfile.txt\", \"w\")\n",
    "\n",
    "new_file.write(\"testing data into file\")\n",
    "new_file.close()"
   ]
  },
  {
   "cell_type": "code",
   "execution_count": 28,
   "metadata": {},
   "outputs": [
    {
     "data": {
      "text/plain": [
       "22"
      ]
     },
     "execution_count": 28,
     "metadata": {},
     "output_type": "execute_result"
    }
   ],
   "source": [
    "import os\n",
    "os.stat(\"testfile.txt\").st_size"
   ]
  },
  {
   "cell_type": "code",
   "execution_count": 29,
   "metadata": {},
   "outputs": [],
   "source": [
    "os.rename(\"testfile.txt\", \"mytext_testfile.txt\")"
   ]
  },
  {
   "cell_type": "code",
   "execution_count": 30,
   "metadata": {},
   "outputs": [],
   "source": [
    "os.remove(\"mytext_testfile.txt\")"
   ]
  },
  {
   "cell_type": "code",
   "execution_count": 31,
   "metadata": {},
   "outputs": [],
   "source": [
    "import json\n",
    "\n",
    "my_dict = {\n",
    "    \"my_key\": [\"may_value1\"],\n",
    "    \"another_value\": \"this is a string\",\n",
    "    \"a_third_value\": 182739127\n",
    "}"
   ]
  },
  {
   "cell_type": "code",
   "execution_count": null,
   "metadata": {},
   "outputs": [],
   "source": [
    "import csv\n",
    "\n"
   ]
  },
  {
   "cell_type": "code",
   "execution_count": null,
   "metadata": {},
   "outputs": [],
   "source": []
  },
  {
   "cell_type": "code",
   "execution_count": null,
   "metadata": {},
   "outputs": [],
   "source": []
  },
  {
   "cell_type": "code",
   "execution_count": null,
   "metadata": {},
   "outputs": [],
   "source": []
  }
 ],
 "metadata": {
  "kernelspec": {
   "display_name": "venv",
   "language": "python",
   "name": "python3"
  },
  "language_info": {
   "codemirror_mode": {
    "name": "ipython",
    "version": 3
   },
   "file_extension": ".py",
   "mimetype": "text/x-python",
   "name": "python",
   "nbconvert_exporter": "python",
   "pygments_lexer": "ipython3",
   "version": "3.8.2"
  },
  "orig_nbformat": 4
 },
 "nbformat": 4,
 "nbformat_minor": 2
}
