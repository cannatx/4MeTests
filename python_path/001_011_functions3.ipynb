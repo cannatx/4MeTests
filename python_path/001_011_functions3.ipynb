{
 "cells": [
  {
   "attachments": {},
   "cell_type": "markdown",
   "metadata": {},
   "source": [
    "### Limite de invocaciones recursivas de una función para evitar loops infinitos"
   ]
  },
  {
   "cell_type": "code",
   "execution_count": 1,
   "metadata": {},
   "outputs": [
    {
     "data": {
      "text/plain": [
       "3000"
      ]
     },
     "execution_count": 1,
     "metadata": {},
     "output_type": "execute_result"
    }
   ],
   "source": [
    "import sys\n",
    "sys.getrecursionlimit()"
   ]
  },
  {
   "cell_type": "code",
   "execution_count": 2,
   "metadata": {},
   "outputs": [],
   "source": [
    "def increment(num):\n",
    "    print(num, end= \" \")\n",
    "    increment(num+1)\n",
    "    return"
   ]
  },
  {
   "cell_type": "code",
   "execution_count": 3,
   "metadata": {},
   "outputs": [
    {
     "name": "stdout",
     "output_type": "stream",
     "text": [
      "1 2 3 4 5 6 7 8 9 10 11 12 13 14 15 16 17 18 19 20 21 22 23 24 25 26 27 28 29 30 31 32 33 34 35 36 37 38 39 40 41 42 43 44 45 46 47 48 49 50 51 52 53 54 55 56 57 58 59 60 61 62 63 64 65 66 67 68 69 70 71 72 73 74 75 76 77 78 79 80 81 82 83 84 85 86 87 88 89 90 91 92 93 94 95 96 97 98 99 100 101 102 103 104 105 106 107 108 109 110 111 112 113 114 115 116 117 118 119 120 121 122 123 124 125 126 127 128 129 130 131 132 133 134 135 136 137 138 139 140 141 142 143 144 145 146 147 148 149 150 151 152 153 154 155 156 157 158 159 160 161 162 163 164 165 166 167 168 169 170 171 172 173 174 175 176 177 178 179 180 181 182 183 184 185 186 187 188 189 190 191 192 193 194 195 196 197 198 199 200 201 202 203 204 205 206 207 208 209 210 211 212 213 214 215 216 217 218 219 220 221 222 223 224 225 226 227 228 229 230 231 232 233 234 235 236 237 238 239 240 241 242 243 244 245 246 247 248 249 250 251 252 253 254 255 256 257 258 259 260 261 262 263 264 265 266 267 268 269 270 271 272 273 274 275 276 277 278 279 280 281 282 283 284 285 286 287 288 289 290 291 292 293 294 295 296 297 298 299 300 301 302 303 304 305 306 307 308 309 310 311 312 313 314 315 316 317 318 319 320 321 322 323 324 325 326 327 328 329 330 331 332 333 334 335 336 337 338 339 340 341 342 343 344 345 346 347 348 349 350 351 352 353 354 355 356 357 358 359 360 361 362 363 364 365 366 367 368 369 370 371 372 373 374 375 376 377 378 379 380 381 382 383 384 385 386 387 388 389 390 391 392 393 394 395 396 397 398 399 400 401 402 403 404 405 406 407 408 409 410 411 412 413 414 415 416 417 418 419 420 421 422 423 424 425 426 427 428 429 430 431 432 433 434 435 436 437 438 439 440 441 442 443 444 445 446 447 448 449 450 451 452 453 454 455 456 457 458 459 460 461 462 463 464 465 466 467 468 469 470 471 472 473 474 475 476 477 478 479 480 481 482 483 484 485 486 487 488 489 490 491 492 493 494 495 496 497 498 499 500 501 502 503 504 505 506 507 508 509 510 511 512 513 514 515 516 517 518 519 520 521 522 523 524 525 526 527 528 529 530 531 532 533 534 535 536 537 538 539 540 541 542 543 544 545 546 547 548 549 550 551 552 553 554 555 556 557 558 559 560 561 562 563 564 565 566 567 568 569 570 571 572 573 574 575 576 577 578 579 580 581 582 583 584 585 586 587 588 589 590 591 592 593 594 595 596 597 598 599 600 601 602 603 604 605 606 607 608 609 610 611 612 613 614 615 616 617 618 619 620 621 622 623 624 625 626 627 628 629 630 631 632 633 634 635 636 637 638 639 640 641 642 643 644 645 646 647 648 649 650 651 652 653 654 655 656 657 658 659 660 661 662 663 664 665 666 667 668 669 670 671 672 673 674 675 676 677 678 679 680 681 682 683 684 685 686 687 688 689 690 691 692 693 694 695 696 697 698 699 700 701 702 703 704 705 706 707 708 709 710 711 712 713 714 715 716 717 718 719 720 721 722 723 724 725 726 727 728 729 730 731 732 733 734 735 736 737 738 739 740 741 742 743 744 745 746 747 748 749 750 751 752 753 754 755 756 757 758 759 760 761 762 763 764 765 766 767 768 769 770 771 772 773 774 775 776 777 778 779 780 781 782 783 784 785 786 787 788 789 790 791 792 793 794 795 796 797 798 799 800 801 802 803 804 805 806 807 808 809 810 811 812 813 814 815 816 817 818 819 820 821 822 823 824 825 826 827 828 829 830 831 832 833 834 835 836 837 838 839 840 841 842 843 844 845 846 847 848 849 850 851 852 853 854 855 856 857 858 859 860 861 862 863 864 865 866 867 868 869 870 871 872 873 874 875 876 877 878 879 880 881 882 883 884 885 886 887 888 889 890 891 892 893 894 895 896 897 898 899 900 901 902 903 904 905 906 907 908 909 910 911 912 913 914 915 916 917 918 919 920 921 922 923 924 925 926 927 928 929 930 931 932 933 934 935 936 937 938 939 940 941 942 943 944 945 946 947 948 949 950 951 952 953 954 955 956 957 958 959 960 961 962 963 964 965 966 967 968 969 970 971 972 973 974 975 976 977 978 979 980 981 982 983 984 985 986 987 988 989 990 991 992 993 994 995 996 997 998 999 1000 1001 1002 1003 1004 1005 1006 1007 1008 1009 1010 1011 1012 1013 1014 1015 1016 1017 1018 1019 1020 1021 1022 1023 1024 1025 1026 1027 1028 1029 1030 1031 1032 1033 1034 1035 1036 1037 1038 1039 1040 1041 1042 1043 1044 1045 1046 1047 1048 1049 1050 1051 1052 1053 1054 1055 1056 1057 1058 1059 1060 1061 1062 1063 1064 1065 1066 1067 1068 1069 1070 1071 1072 1073 1074 1075 1076 1077 1078 1079 1080 1081 1082 1083 1084 1085 1086 1087 1088 1089 1090 1091 1092 1093 1094 1095 1096 1097 1098 1099 1100 1101 1102 1103 1104 1105 1106 1107 1108 1109 1110 1111 1112 1113 1114 1115 1116 1117 1118 1119 1120 1121 1122 1123 1124 1125 1126 1127 1128 1129 1130 1131 1132 1133 1134 1135 1136 1137 1138 1139 1140 1141 1142 1143 1144 1145 1146 1147 1148 1149 1150 1151 1152 1153 1154 1155 1156 1157 1158 1159 1160 1161 1162 1163 1164 1165 1166 1167 1168 1169 1170 1171 1172 1173 1174 1175 1176 1177 1178 1179 1180 1181 1182 1183 1184 1185 1186 1187 1188 1189 1190 1191 1192 1193 1194 1195 1196 1197 1198 1199 1200 1201 1202 1203 1204 1205 1206 1207 1208 1209 1210 1211 1212 1213 1214 1215 1216 1217 1218 1219 1220 1221 1222 1223 1224 1225 1226 1227 1228 1229 1230 1231 1232 1233 1234 1235 1236 1237 1238 1239 1240 1241 1242 1243 1244 1245 1246 1247 1248 1249 1250 1251 1252 1253 1254 1255 1256 1257 1258 1259 1260 1261 1262 1263 1264 1265 1266 1267 1268 1269 1270 1271 1272 1273 1274 1275 1276 1277 1278 1279 1280 1281 1282 1283 1284 1285 1286 1287 1288 1289 1290 1291 1292 1293 1294 1295 1296 1297 1298 1299 1300 1301 1302 1303 1304 1305 1306 1307 1308 1309 1310 1311 1312 1313 1314 1315 1316 1317 1318 1319 1320 1321 1322 1323 1324 1325 1326 1327 1328 1329 1330 1331 1332 1333 1334 1335 1336 1337 1338 1339 1340 1341 1342 1343 1344 1345 1346 1347 1348 1349 1350 1351 1352 1353 1354 1355 1356 1357 1358 1359 1360 1361 1362 1363 1364 1365 1366 1367 1368 1369 1370 1371 1372 1373 1374 1375 1376 1377 1378 1379 1380 1381 1382 1383 1384 1385 1386 1387 1388 1389 1390 1391 1392 1393 1394 1395 1396 1397 1398 1399 1400 1401 1402 1403 1404 1405 1406 1407 1408 1409 1410 1411 1412 1413 1414 1415 1416 1417 1418 1419 1420 1421 1422 1423 1424 1425 1426 1427 1428 1429 1430 1431 1432 1433 1434 1435 1436 1437 1438 1439 1440 1441 1442 1443 1444 1445 1446 1447 1448 1449 1450 1451 1452 1453 1454 1455 1456 1457 1458 1459 1460 1461 1462 1463 1464 1465 1466 1467 1468 1469 1470 1471 1472 1473 1474 1475 1476 1477 1478 1479 1480 1481 1482 1483 1484 1485 1486 1487 1488 1489 1490 1491 1492 1493 1494 1495 1496 1497 1498 1499 1500 1501 1502 1503 1504 1505 1506 1507 1508 1509 1510 1511 1512 1513 1514 1515 1516 1517 1518 1519 1520 1521 1522 1523 1524 1525 1526 1527 1528 1529 1530 1531 1532 1533 1534 1535 1536 1537 1538 1539 1540 1541 1542 1543 1544 1545 1546 1547 1548 1549 1550 1551 1552 1553 1554 1555 1556 1557 1558 1559 1560 1561 1562 1563 1564 1565 1566 1567 1568 1569 1570 1571 1572 1573 1574 1575 1576 1577 1578 1579 1580 1581 1582 1583 1584 1585 1586 1587 1588 1589 1590 1591 1592 1593 1594 1595 1596 1597 1598 1599 1600 1601 1602 1603 1604 1605 1606 1607 1608 1609 1610 1611 1612 1613 1614 1615 1616 1617 1618 1619 1620 1621 1622 1623 1624 1625 1626 1627 1628 1629 1630 1631 1632 1633 1634 1635 1636 1637 1638 1639 1640 1641 1642 1643 1644 1645 1646 1647 1648 1649 1650 1651 1652 1653 1654 1655 1656 1657 1658 1659 1660 1661 1662 1663 1664 1665 1666 1667 1668 1669 1670 1671 1672 1673 1674 1675 1676 1677 1678 1679 1680 1681 1682 1683 1684 1685 1686 1687 1688 1689 1690 1691 1692 1693 1694 1695 1696 1697 1698 1699 1700 1701 1702 1703 1704 1705 1706 1707 1708 1709 1710 1711 1712 1713 1714 1715 1716 1717 1718 1719 1720 1721 1722 1723 1724 1725 1726 1727 1728 1729 1730 1731 1732 1733 1734 1735 1736 1737 1738 1739 1740 1741 1742 1743 1744 1745 1746 1747 1748 1749 1750 1751 1752 1753 1754 1755 1756 1757 1758 1759 1760 1761 1762 1763 1764 1765 1766 1767 1768 1769 1770 1771 1772 1773 1774 1775 1776 1777 1778 1779 1780 1781 1782 1783 1784 1785 1786 1787 1788 1789 1790 1791 1792 1793 1794 1795 1796 1797 1798 1799 1800 1801 1802 1803 1804 1805 1806 1807 1808 1809 1810 1811 1812 1813 1814 1815 1816 1817 1818 1819 1820 1821 1822 1823 1824 1825 1826 1827 1828 1829 1830 1831 1832 1833 1834 1835 1836 1837 1838 1839 1840 1841 1842 1843 1844 1845 1846 1847 1848 1849 1850 1851 1852 1853 1854 1855 1856 1857 1858 1859 1860 1861 1862 1863 1864 1865 1866 1867 1868 1869 1870 1871 1872 1873 1874 1875 1876 1877 1878 1879 1880 1881 1882 1883 1884 1885 1886 1887 1888 1889 1890 1891 1892 1893 1894 1895 1896 1897 1898 1899 1900 1901 1902 1903 1904 1905 1906 1907 1908 1909 1910 1911 1912 1913 1914 1915 1916 1917 1918 1919 1920 1921 1922 1923 1924 1925 1926 1927 1928 1929 1930 1931 1932 1933 1934 1935 1936 1937 1938 1939 1940 1941 1942 1943 1944 1945 1946 1947 1948 1949 1950 1951 1952 1953 1954 1955 1956 1957 1958 1959 1960 1961 1962 1963 1964 1965 1966 1967 1968 1969 1970 1971 1972 1973 1974 1975 1976 1977 1978 1979 1980 1981 1982 1983 1984 1985 1986 1987 1988 1989 1990 1991 1992 1993 1994 1995 1996 1997 1998 1999 2000 2001 2002 2003 2004 2005 2006 2007 2008 2009 2010 2011 2012 2013 2014 2015 2016 2017 2018 2019 2020 2021 2022 2023 2024 2025 2026 2027 2028 2029 2030 2031 2032 2033 2034 2035 2036 2037 2038 2039 2040 2041 2042 2043 2044 2045 2046 2047 2048 2049 2050 2051 2052 2053 2054 2055 2056 2057 2058 2059 2060 2061 2062 2063 2064 2065 2066 2067 2068 2069 2070 2071 2072 2073 2074 2075 2076 2077 2078 2079 2080 2081 2082 2083 2084 2085 2086 2087 2088 2089 2090 2091 2092 2093 2094 2095 2096 2097 2098 2099 2100 2101 2102 2103 2104 2105 2106 2107 2108 2109 2110 2111 2112 2113 2114 2115 2116 2117 2118 2119 2120 2121 2122 2123 2124 2125 2126 2127 2128 2129 2130 2131 2132 2133 2134 2135 2136 2137 2138 2139 2140 2141 2142 2143 2144 2145 2146 2147 2148 2149 2150 2151 2152 2153 2154 2155 2156 2157 2158 2159 2160 2161 2162 2163 2164 2165 2166 2167 2168 2169 2170 2171 2172 2173 2174 2175 2176 2177 2178 2179 2180 2181 2182 2183 2184 2185 2186 2187 2188 2189 2190 2191 2192 2193 2194 2195 2196 2197 2198 2199 2200 2201 2202 2203 2204 2205 2206 2207 2208 2209 2210 2211 2212 2213 2214 2215 2216 2217 2218 2219 2220 2221 2222 2223 2224 2225 2226 2227 2228 2229 2230 2231 2232 2233 2234 2235 2236 2237 2238 2239 2240 2241 2242 2243 2244 2245 2246 2247 2248 2249 2250 2251 2252 2253 2254 2255 2256 2257 2258 2259 2260 2261 2262 2263 2264 2265 2266 2267 2268 2269 2270 2271 2272 2273 2274 2275 2276 2277 2278 2279 2280 2281 2282 2283 2284 2285 2286 2287 2288 2289 2290 2291 2292 2293 2294 2295 2296 2297 2298 2299 2300 2301 2302 2303 2304 2305 2306 2307 2308 2309 2310 2311 2312 2313 2314 2315 2316 2317 2318 2319 2320 2321 2322 2323 2324 2325 2326 2327 2328 2329 2330 2331 2332 2333 2334 2335 2336 2337 2338 2339 2340 2341 2342 2343 2344 2345 2346 2347 2348 2349 2350 2351 2352 2353 2354 2355 2356 2357 2358 2359 2360 2361 2362 2363 2364 2365 2366 2367 2368 2369 2370 2371 2372 2373 2374 2375 2376 2377 2378 2379 2380 2381 2382 2383 2384 2385 2386 2387 2388 2389 2390 2391 2392 2393 2394 2395 2396 2397 2398 2399 2400 2401 2402 2403 2404 2405 2406 2407 2408 2409 2410 2411 2412 2413 2414 2415 2416 2417 2418 2419 2420 2421 2422 2423 2424 2425 2426 2427 2428 2429 2430 2431 2432 2433 2434 2435 2436 2437 2438 2439 2440 2441 2442 2443 2444 2445 2446 2447 2448 2449 2450 2451 2452 2453 2454 2455 2456 2457 2458 2459 2460 2461 2462 2463 2464 2465 2466 2467 2468 2469 2470 2471 2472 2473 2474 2475 2476 2477 2478 2479 2480 2481 2482 2483 2484 2485 2486 2487 2488 2489 2490 2491 2492 2493 2494 2495 2496 2497 2498 2499 2500 2501 2502 2503 2504 2505 2506 2507 2508 2509 2510 2511 2512 2513 2514 2515 2516 2517 2518 2519 2520 2521 2522 2523 2524 2525 2526 2527 2528 2529 2530 2531 2532 2533 2534 2535 2536 2537 2538 2539 2540 2541 2542 2543 2544 2545 2546 2547 2548 2549 2550 2551 2552 2553 2554 2555 2556 2557 2558 2559 2560 2561 2562 2563 2564 2565 2566 2567 2568 2569 2570 2571 2572 2573 2574 2575 2576 2577 2578 2579 2580 2581 2582 2583 2584 2585 2586 2587 2588 2589 2590 2591 2592 2593 2594 2595 2596 2597 2598 2599 2600 2601 2602 2603 2604 2605 2606 2607 2608 2609 2610 2611 2612 2613 2614 2615 2616 2617 2618 2619 2620 2621 2622 2623 2624 2625 2626 2627 2628 2629 2630 2631 2632 2633 2634 2635 2636 2637 2638 2639 2640 2641 2642 2643 2644 2645 2646 2647 2648 2649 2650 2651 2652 2653 2654 2655 2656 2657 2658 2659 2660 2661 2662 2663 2664 2665 2666 2667 2668 2669 2670 2671 2672 2673 2674 2675 2676 2677 2678 2679 2680 2681 2682 2683 2684 2685 2686 2687 2688 2689 2690 2691 2692 2693 2694 2695 2696 2697 2698 2699 2700 2701 2702 2703 2704 2705 2706 2707 2708 2709 2710 2711 2712 2713 2714 2715 2716 2717 2718 2719 2720 2721 2722 2723 2724 2725 2726 2727 2728 2729 2730 2731 2732 2733 2734 2735 2736 2737 2738 2739 2740 2741 2742 2743 2744 2745 2746 2747 2748 2749 2750 2751 2752 2753 2754 2755 2756 2757 2758 2759 2760 2761 2762 2763 2764 2765 2766 2767 2768 2769 2770 2771 2772 2773 2774 2775 2776 2777 2778 2779 2780 2781 2782 2783 2784 2785 2786 2787 2788 2789 2790 2791 2792 2793 2794 2795 2796 2797 2798 2799 2800 2801 2802 2803 2804 2805 2806 2807 2808 2809 2810 2811 2812 2813 2814 2815 2816 2817 2818 2819 2820 2821 2822 2823 2824 2825 2826 2827 2828 2829 2830 2831 2832 2833 2834 2835 2836 2837 2838 2839 2840 2841 2842 2843 2844 2845 2846 2847 2848 2849 2850 2851 2852 2853 2854 2855 2856 2857 2858 2859 2860 2861 2862 2863 2864 2865 2866 2867 2868 2869 2870 2871 2872 2873 2874 2875 2876 2877 2878 2879 2880 2881 2882 2883 2884 2885 2886 2887 2888 2889 2890 2891 2892 2893 2894 2895 2896 2897 2898 2899 2900 2901 2902 2903 2904 2905 2906 2907 2908 2909 2910 2911 2912 2913 2914 2915 2916 2917 2918 2919 2920 2921 2922 2923 2924 2925 2926 2927 2928 2929 2930 2931 2932 2933 2934 2935 2936 2937 2938 2939 2940 2941 2942 2943 2944 2945 2946 2947 2948 2949 2950 2951 2952 2953 2954 2955 2956 2957 2958 2959 2960 2961 2962 2963 2964 2965 2966 2967 2968 2969 "
     ]
    },
    {
     "ename": "RecursionError",
     "evalue": "maximum recursion depth exceeded while calling a Python object",
     "output_type": "error",
     "traceback": [
      "\u001b[1;31m---------------------------------------------------------------------------\u001b[0m",
      "\u001b[1;31mRecursionError\u001b[0m                            Traceback (most recent call last)",
      "Cell \u001b[1;32mIn[3], line 1\u001b[0m\n\u001b[1;32m----> 1\u001b[0m increment(\u001b[39m1\u001b[39;49m)\n",
      "Cell \u001b[1;32mIn[2], line 3\u001b[0m, in \u001b[0;36mincrement\u001b[1;34m(num)\u001b[0m\n\u001b[0;32m      1\u001b[0m \u001b[39mdef\u001b[39;00m \u001b[39mincrement\u001b[39m(num):\n\u001b[0;32m      2\u001b[0m     \u001b[39mprint\u001b[39m(num, end\u001b[39m=\u001b[39m \u001b[39m\"\u001b[39m\u001b[39m \u001b[39m\u001b[39m\"\u001b[39m)\n\u001b[1;32m----> 3\u001b[0m     increment(num\u001b[39m+\u001b[39;49m\u001b[39m1\u001b[39;49m)\n\u001b[0;32m      4\u001b[0m     \u001b[39mreturn\u001b[39;00m\n",
      "Cell \u001b[1;32mIn[2], line 3\u001b[0m, in \u001b[0;36mincrement\u001b[1;34m(num)\u001b[0m\n\u001b[0;32m      1\u001b[0m \u001b[39mdef\u001b[39;00m \u001b[39mincrement\u001b[39m(num):\n\u001b[0;32m      2\u001b[0m     \u001b[39mprint\u001b[39m(num, end\u001b[39m=\u001b[39m \u001b[39m\"\u001b[39m\u001b[39m \u001b[39m\u001b[39m\"\u001b[39m)\n\u001b[1;32m----> 3\u001b[0m     increment(num\u001b[39m+\u001b[39;49m\u001b[39m1\u001b[39;49m)\n\u001b[0;32m      4\u001b[0m     \u001b[39mreturn\u001b[39;00m\n",
      "    \u001b[1;31m[... skipping similar frames: increment at line 3 (2966 times)]\u001b[0m\n",
      "Cell \u001b[1;32mIn[2], line 3\u001b[0m, in \u001b[0;36mincrement\u001b[1;34m(num)\u001b[0m\n\u001b[0;32m      1\u001b[0m \u001b[39mdef\u001b[39;00m \u001b[39mincrement\u001b[39m(num):\n\u001b[0;32m      2\u001b[0m     \u001b[39mprint\u001b[39m(num, end\u001b[39m=\u001b[39m \u001b[39m\"\u001b[39m\u001b[39m \u001b[39m\u001b[39m\"\u001b[39m)\n\u001b[1;32m----> 3\u001b[0m     increment(num\u001b[39m+\u001b[39;49m\u001b[39m1\u001b[39;49m)\n\u001b[0;32m      4\u001b[0m     \u001b[39mreturn\u001b[39;00m\n",
      "Cell \u001b[1;32mIn[2], line 2\u001b[0m, in \u001b[0;36mincrement\u001b[1;34m(num)\u001b[0m\n\u001b[0;32m      1\u001b[0m \u001b[39mdef\u001b[39;00m \u001b[39mincrement\u001b[39m(num):\n\u001b[1;32m----> 2\u001b[0m     \u001b[39mprint\u001b[39;49m(num, end\u001b[39m=\u001b[39;49m \u001b[39m\"\u001b[39;49m\u001b[39m \u001b[39;49m\u001b[39m\"\u001b[39;49m)\n\u001b[0;32m      3\u001b[0m     increment(num\u001b[39m+\u001b[39m\u001b[39m1\u001b[39m)\n\u001b[0;32m      4\u001b[0m     \u001b[39mreturn\u001b[39;00m\n",
      "File \u001b[1;32mc:\\Users\\ng71cd8\\Documents\\__Devs\\Tests\\venv\\lib\\site-packages\\ipykernel\\iostream.py:560\u001b[0m, in \u001b[0;36mOutStream.write\u001b[1;34m(self, string)\u001b[0m\n\u001b[0;32m    558\u001b[0m     \u001b[39mraise\u001b[39;00m \u001b[39mValueError\u001b[39;00m(msg)\n\u001b[0;32m    559\u001b[0m \u001b[39melse\u001b[39;00m:\n\u001b[1;32m--> 560\u001b[0m     is_child \u001b[39m=\u001b[39m \u001b[39mnot\u001b[39;00m \u001b[39mself\u001b[39;49m\u001b[39m.\u001b[39;49m_is_master_process()\n\u001b[0;32m    561\u001b[0m     \u001b[39m# only touch the buffer in the IO thread to avoid races\u001b[39;00m\n\u001b[0;32m    562\u001b[0m     \u001b[39mwith\u001b[39;00m \u001b[39mself\u001b[39m\u001b[39m.\u001b[39m_buffer_lock:\n",
      "File \u001b[1;32mc:\\Users\\ng71cd8\\Documents\\__Devs\\Tests\\venv\\lib\\site-packages\\ipykernel\\iostream.py:445\u001b[0m, in \u001b[0;36mOutStream._is_master_process\u001b[1;34m(self)\u001b[0m\n\u001b[0;32m    444\u001b[0m \u001b[39mdef\u001b[39;00m \u001b[39m_is_master_process\u001b[39m(\u001b[39mself\u001b[39m):\n\u001b[1;32m--> 445\u001b[0m     \u001b[39mreturn\u001b[39;00m os\u001b[39m.\u001b[39;49mgetpid() \u001b[39m==\u001b[39m \u001b[39mself\u001b[39m\u001b[39m.\u001b[39m_master_pid\n",
      "\u001b[1;31mRecursionError\u001b[0m: maximum recursion depth exceeded while calling a Python object"
     ]
    }
   ],
   "source": [
    "increment(1)"
   ]
  },
  {
   "cell_type": "code",
   "execution_count": 4,
   "metadata": {},
   "outputs": [
    {
     "name": "stdout",
     "output_type": "stream",
     "text": [
      "1 2 3 4 5 6 7 8 9 10 11 12 13 14 15 16 17 18 19 20 21 22 23 24 25 26 27 28 29 30 31 32 33 34 35 36 37 38 39 40 41 42 43 44 45 46 47 48 49 50 51 52 53 54 55 56 57 58 59 60 61 62 63 64 65 66 67 68 69 Unexpected exception formatting exception. Falling back to standard exception\n"
     ]
    },
    {
     "name": "stderr",
     "output_type": "stream",
     "text": [
      "Traceback (most recent call last):\n",
      "  File \"c:\\Users\\ng71cd8\\Documents\\__Devs\\Tests\\venv\\lib\\site-packages\\IPython\\core\\interactiveshell.py\", line 3460, in run_code\n",
      "    exec(code_obj, self.user_global_ns, self.user_ns)\n",
      "  File \"C:\\Temp\\ipykernel_18060\\4192508428.py\", line 4, in <module>\n",
      "    increment(1)\n",
      "  File \"C:\\Temp\\ipykernel_18060\\3893462078.py\", line 3, in increment\n",
      "    increment(num+1)\n",
      "  File \"C:\\Temp\\ipykernel_18060\\3893462078.py\", line 3, in increment\n",
      "    increment(num+1)\n",
      "  File \"C:\\Temp\\ipykernel_18060\\3893462078.py\", line 3, in increment\n",
      "    increment(num+1)\n",
      "  [Previous line repeated 66 more times]\n",
      "  File \"C:\\Temp\\ipykernel_18060\\3893462078.py\", line 2, in increment\n",
      "    print(num, end= \" \")\n",
      "  File \"c:\\Users\\ng71cd8\\Documents\\__Devs\\Tests\\venv\\lib\\site-packages\\ipykernel\\iostream.py\", line 560, in write\n",
      "    is_child = not self._is_master_process()\n",
      "  File \"c:\\Users\\ng71cd8\\Documents\\__Devs\\Tests\\venv\\lib\\site-packages\\ipykernel\\iostream.py\", line 445, in _is_master_process\n",
      "    return os.getpid() == self._master_pid\n",
      "RecursionError: maximum recursion depth exceeded while calling a Python object\n",
      "\n",
      "During handling of the above exception, another exception occurred:\n",
      "\n",
      "Traceback (most recent call last):\n",
      "  File \"c:\\Users\\ng71cd8\\Documents\\__Devs\\Tests\\venv\\lib\\site-packages\\pygments\\lexer.py\", line 499, in _process_state\n",
      "    rex = cls._process_regex(tdef[0], rflags, state)\n",
      "  File \"c:\\Users\\ng71cd8\\Documents\\__Devs\\Tests\\venv\\lib\\site-packages\\pygments\\lexer.py\", line 427, in _process_regex\n",
      "    regex = regex.get()\n",
      "  File \"c:\\Users\\ng71cd8\\Documents\\__Devs\\Tests\\venv\\lib\\site-packages\\pygments\\lexer.py\", line 415, in get\n",
      "    return regex_opt(self.words, prefix=self.prefix, suffix=self.suffix)\n",
      "  File \"c:\\Users\\ng71cd8\\Documents\\__Devs\\Tests\\venv\\lib\\site-packages\\pygments\\regexopt.py\", line 91, in regex_opt\n",
      "    return prefix + regex_opt_inner(strings, '(') + suffix\n",
      "  File \"c:\\Users\\ng71cd8\\Documents\\__Devs\\Tests\\venv\\lib\\site-packages\\pygments\\regexopt.py\", line 77, in regex_opt_inner\n",
      "    '|'.join(regex_opt_inner(list(group[1]), '')\n",
      "  File \"c:\\Users\\ng71cd8\\Documents\\__Devs\\Tests\\venv\\lib\\site-packages\\pygments\\regexopt.py\", line 77, in <genexpr>\n",
      "    '|'.join(regex_opt_inner(list(group[1]), '')\n",
      "  File \"c:\\Users\\ng71cd8\\Documents\\__Devs\\Tests\\venv\\lib\\site-packages\\pygments\\regexopt.py\", line 77, in regex_opt_inner\n",
      "    '|'.join(regex_opt_inner(list(group[1]), '')\n",
      "  File \"c:\\Users\\ng71cd8\\Documents\\__Devs\\Tests\\venv\\lib\\site-packages\\pygments\\regexopt.py\", line 77, in <genexpr>\n",
      "    '|'.join(regex_opt_inner(list(group[1]), '')\n",
      "  File \"c:\\Users\\ng71cd8\\Documents\\__Devs\\Tests\\venv\\lib\\site-packages\\pygments\\regexopt.py\", line 77, in regex_opt_inner\n",
      "    '|'.join(regex_opt_inner(list(group[1]), '')\n",
      "  File \"c:\\Users\\ng71cd8\\Documents\\__Devs\\Tests\\venv\\lib\\site-packages\\pygments\\regexopt.py\", line 77, in <genexpr>\n",
      "    '|'.join(regex_opt_inner(list(group[1]), '')\n",
      "  File \"c:\\Users\\ng71cd8\\Documents\\__Devs\\Tests\\venv\\lib\\site-packages\\pygments\\regexopt.py\", line 77, in regex_opt_inner\n",
      "    '|'.join(regex_opt_inner(list(group[1]), '')\n",
      "  File \"c:\\Users\\ng71cd8\\Documents\\__Devs\\Tests\\venv\\lib\\site-packages\\pygments\\regexopt.py\", line 77, in <genexpr>\n",
      "    '|'.join(regex_opt_inner(list(group[1]), '')\n",
      "  File \"c:\\Users\\ng71cd8\\Documents\\__Devs\\Tests\\venv\\lib\\site-packages\\pygments\\regexopt.py\", line 77, in regex_opt_inner\n",
      "    '|'.join(regex_opt_inner(list(group[1]), '')\n",
      "  File \"c:\\Users\\ng71cd8\\Documents\\__Devs\\Tests\\venv\\lib\\site-packages\\pygments\\regexopt.py\", line 77, in <genexpr>\n",
      "    '|'.join(regex_opt_inner(list(group[1]), '')\n",
      "  File \"c:\\Users\\ng71cd8\\Documents\\__Devs\\Tests\\venv\\lib\\site-packages\\pygments\\regexopt.py\", line 77, in regex_opt_inner\n",
      "    '|'.join(regex_opt_inner(list(group[1]), '')\n",
      "  File \"c:\\Users\\ng71cd8\\Documents\\__Devs\\Tests\\venv\\lib\\site-packages\\pygments\\regexopt.py\", line 77, in <genexpr>\n",
      "    '|'.join(regex_opt_inner(list(group[1]), '')\n",
      "  File \"c:\\Users\\ng71cd8\\Documents\\__Devs\\Tests\\venv\\lib\\site-packages\\pygments\\regexopt.py\", line 77, in regex_opt_inner\n",
      "    '|'.join(regex_opt_inner(list(group[1]), '')\n",
      "  File \"c:\\Users\\ng71cd8\\Documents\\__Devs\\Tests\\venv\\lib\\site-packages\\pygments\\regexopt.py\", line 77, in <genexpr>\n",
      "    '|'.join(regex_opt_inner(list(group[1]), '')\n",
      "  File \"c:\\Users\\ng71cd8\\Documents\\__Devs\\Tests\\venv\\lib\\site-packages\\pygments\\regexopt.py\", line 77, in regex_opt_inner\n",
      "    '|'.join(regex_opt_inner(list(group[1]), '')\n",
      "  File \"c:\\Users\\ng71cd8\\Documents\\__Devs\\Tests\\venv\\lib\\site-packages\\pygments\\regexopt.py\", line 77, in <genexpr>\n",
      "    '|'.join(regex_opt_inner(list(group[1]), '')\n",
      "  File \"c:\\Users\\ng71cd8\\Documents\\__Devs\\Tests\\venv\\lib\\site-packages\\pygments\\regexopt.py\", line 77, in regex_opt_inner\n",
      "    '|'.join(regex_opt_inner(list(group[1]), '')\n",
      "  File \"c:\\Users\\ng71cd8\\Documents\\__Devs\\Tests\\venv\\lib\\site-packages\\pygments\\regexopt.py\", line 77, in <genexpr>\n",
      "    '|'.join(regex_opt_inner(list(group[1]), '')\n",
      "  File \"c:\\Users\\ng71cd8\\Documents\\__Devs\\Tests\\venv\\lib\\site-packages\\pygments\\regexopt.py\", line 77, in regex_opt_inner\n",
      "    '|'.join(regex_opt_inner(list(group[1]), '')\n",
      "  File \"c:\\Users\\ng71cd8\\Documents\\__Devs\\Tests\\venv\\lib\\site-packages\\pygments\\regexopt.py\", line 77, in <genexpr>\n",
      "    '|'.join(regex_opt_inner(list(group[1]), '')\n",
      "  File \"c:\\Users\\ng71cd8\\Documents\\__Devs\\Tests\\venv\\lib\\site-packages\\pygments\\regexopt.py\", line 77, in regex_opt_inner\n",
      "    '|'.join(regex_opt_inner(list(group[1]), '')\n",
      "  File \"c:\\Users\\ng71cd8\\Documents\\__Devs\\Tests\\venv\\lib\\site-packages\\pygments\\regexopt.py\", line 77, in <genexpr>\n",
      "    '|'.join(regex_opt_inner(list(group[1]), '')\n",
      "  File \"c:\\Users\\ng71cd8\\Documents\\__Devs\\Tests\\venv\\lib\\site-packages\\pygments\\regexopt.py\", line 77, in regex_opt_inner\n",
      "    '|'.join(regex_opt_inner(list(group[1]), '')\n",
      "  File \"c:\\Users\\ng71cd8\\Documents\\__Devs\\Tests\\venv\\lib\\site-packages\\pygments\\regexopt.py\", line 77, in <genexpr>\n",
      "    '|'.join(regex_opt_inner(list(group[1]), '')\n",
      "  File \"c:\\Users\\ng71cd8\\Documents\\__Devs\\Tests\\venv\\lib\\site-packages\\pygments\\regexopt.py\", line 77, in regex_opt_inner\n",
      "    '|'.join(regex_opt_inner(list(group[1]), '')\n",
      "  File \"c:\\Users\\ng71cd8\\Documents\\__Devs\\Tests\\venv\\lib\\site-packages\\pygments\\regexopt.py\", line 77, in <genexpr>\n",
      "    '|'.join(regex_opt_inner(list(group[1]), '')\n",
      "  File \"c:\\Users\\ng71cd8\\Documents\\__Devs\\Tests\\venv\\lib\\site-packages\\pygments\\regexopt.py\", line 77, in regex_opt_inner\n",
      "    '|'.join(regex_opt_inner(list(group[1]), '')\n",
      "  File \"c:\\Users\\ng71cd8\\Documents\\__Devs\\Tests\\venv\\lib\\site-packages\\pygments\\regexopt.py\", line 77, in <genexpr>\n",
      "    '|'.join(regex_opt_inner(list(group[1]), '')\n",
      "  File \"c:\\Users\\ng71cd8\\Documents\\__Devs\\Tests\\venv\\lib\\site-packages\\pygments\\regexopt.py\", line 63, in regex_opt_inner\n",
      "    + regex_opt_inner([s[plen:] for s in strings], '(?:') \\\n",
      "  File \"c:\\Users\\ng71cd8\\Documents\\__Devs\\Tests\\venv\\lib\\site-packages\\pygments\\regexopt.py\", line 77, in regex_opt_inner\n",
      "    '|'.join(regex_opt_inner(list(group[1]), '')\n",
      "  File \"c:\\Users\\ng71cd8\\Documents\\__Devs\\Tests\\venv\\lib\\site-packages\\pygments\\regexopt.py\", line 77, in <genexpr>\n",
      "    '|'.join(regex_opt_inner(list(group[1]), '')\n",
      "  File \"c:\\Users\\ng71cd8\\Documents\\__Devs\\Tests\\venv\\lib\\site-packages\\pygments\\regexopt.py\", line 77, in regex_opt_inner\n",
      "    '|'.join(regex_opt_inner(list(group[1]), '')\n",
      "  File \"c:\\Users\\ng71cd8\\Documents\\__Devs\\Tests\\venv\\lib\\site-packages\\pygments\\regexopt.py\", line 77, in <genexpr>\n",
      "    '|'.join(regex_opt_inner(list(group[1]), '')\n",
      "  File \"c:\\Users\\ng71cd8\\Documents\\__Devs\\Tests\\venv\\lib\\site-packages\\pygments\\regexopt.py\", line 77, in regex_opt_inner\n",
      "    '|'.join(regex_opt_inner(list(group[1]), '')\n",
      "  File \"c:\\Users\\ng71cd8\\Documents\\__Devs\\Tests\\venv\\lib\\site-packages\\pygments\\regexopt.py\", line 77, in <genexpr>\n",
      "    '|'.join(regex_opt_inner(list(group[1]), '')\n",
      "  File \"c:\\Users\\ng71cd8\\Documents\\__Devs\\Tests\\venv\\lib\\site-packages\\pygments\\regexopt.py\", line 36, in regex_opt_inner\n",
      "    return open_paren + escape(first) + close_paren\n",
      "  File \"C:\\Users\\ng71cd8\\AppData\\Local\\Programs\\Python\\Python38-32\\lib\\re.py\", line 273, in escape\n",
      "    return pattern.translate(_special_chars_map)\n",
      "RecursionError: maximum recursion depth exceeded while calling a Python object\n",
      "\n",
      "The above exception was the direct cause of the following exception:\n",
      "\n",
      "Traceback (most recent call last):\n",
      "  File \"c:\\Users\\ng71cd8\\Documents\\__Devs\\Tests\\venv\\lib\\site-packages\\IPython\\core\\interactiveshell.py\", line 2057, in showtraceback\n",
      "    stb = self.InteractiveTB.structured_traceback(\n",
      "  File \"c:\\Users\\ng71cd8\\Documents\\__Devs\\Tests\\venv\\lib\\site-packages\\IPython\\core\\ultratb.py\", line 1288, in structured_traceback\n",
      "    return FormattedTB.structured_traceback(\n",
      "  File \"c:\\Users\\ng71cd8\\Documents\\__Devs\\Tests\\venv\\lib\\site-packages\\IPython\\core\\ultratb.py\", line 1177, in structured_traceback\n",
      "    return VerboseTB.structured_traceback(\n",
      "  File \"c:\\Users\\ng71cd8\\Documents\\__Devs\\Tests\\venv\\lib\\site-packages\\IPython\\core\\ultratb.py\", line 1030, in structured_traceback\n",
      "    formatted_exception = self.format_exception_as_a_whole(etype, evalue, etb, number_of_lines_of_context,\n",
      "  File \"c:\\Users\\ng71cd8\\Documents\\__Devs\\Tests\\venv\\lib\\site-packages\\IPython\\core\\ultratb.py\", line 960, in format_exception_as_a_whole\n",
      "    frames.append(self.format_record(record))\n",
      "  File \"c:\\Users\\ng71cd8\\Documents\\__Devs\\Tests\\venv\\lib\\site-packages\\IPython\\core\\ultratb.py\", line 869, in format_record\n",
      "    _format_traceback_lines(\n",
      "  File \"c:\\Users\\ng71cd8\\Documents\\__Devs\\Tests\\venv\\lib\\site-packages\\IPython\\core\\ultratb.py\", line 158, in _format_traceback_lines\n",
      "    line = stack_line.render(pygmented=has_colors).rstrip('\\n') + '\\n'\n",
      "  File \"c:\\Users\\ng71cd8\\Documents\\__Devs\\Tests\\venv\\lib\\site-packages\\stack_data\\core.py\", line 391, in render\n",
      "    start_line, lines = self.frame_info._pygmented_scope_lines\n",
      "  File \"c:\\Users\\ng71cd8\\Documents\\__Devs\\Tests\\venv\\lib\\site-packages\\stack_data\\utils.py\", line 144, in cached_property_wrapper\n",
      "    value = obj.__dict__[self.func.__name__] = self.func(obj)\n",
      "  File \"c:\\Users\\ng71cd8\\Documents\\__Devs\\Tests\\venv\\lib\\site-packages\\stack_data\\core.py\", line 824, in _pygmented_scope_lines\n",
      "    lines = _pygmented_with_ranges(formatter, code, ranges)\n",
      "  File \"c:\\Users\\ng71cd8\\Documents\\__Devs\\Tests\\venv\\lib\\site-packages\\stack_data\\utils.py\", line 163, in _pygmented_with_ranges\n",
      "    lexer = MyLexer(stripnl=False)\n",
      "  File \"c:\\Users\\ng71cd8\\Documents\\__Devs\\Tests\\venv\\lib\\site-packages\\pygments\\lexer.py\", line 581, in __call__\n",
      "    cls._tokens = cls.process_tokendef('', cls.get_tokendefs())\n",
      "  File \"c:\\Users\\ng71cd8\\Documents\\__Devs\\Tests\\venv\\lib\\site-packages\\pygments\\lexer.py\", line 520, in process_tokendef\n",
      "    cls._process_state(tokendefs, processed, state)\n",
      "  File \"c:\\Users\\ng71cd8\\Documents\\__Devs\\Tests\\venv\\lib\\site-packages\\pygments\\lexer.py\", line 483, in _process_state\n",
      "    tokens.extend(cls._process_state(unprocessed, processed,\n",
      "  File \"c:\\Users\\ng71cd8\\Documents\\__Devs\\Tests\\venv\\lib\\site-packages\\pygments\\lexer.py\", line 483, in _process_state\n",
      "    tokens.extend(cls._process_state(unprocessed, processed,\n",
      "  File \"c:\\Users\\ng71cd8\\Documents\\__Devs\\Tests\\venv\\lib\\site-packages\\pygments\\lexer.py\", line 501, in _process_state\n",
      "    raise ValueError(\"uncompilable regex %r in state %r of %r: %s\" %\n",
      "ValueError: uncompilable regex <pygments.lexer.words object at 0x03F312F8> in state 'builtins' of <class 'stack_data.utils._pygmented_with_ranges.<locals>.MyLexer'>: maximum recursion depth exceeded while calling a Python object\n"
     ]
    }
   ],
   "source": [
    "# limitar el numero de recursiones del sistema\n",
    "sys.setrecursionlimit(100)\n",
    "\n",
    "increment(1)"
   ]
  },
  {
   "cell_type": "code",
   "execution_count": 14,
   "metadata": {},
   "outputs": [],
   "source": [
    "def recursive_sum(num):\n",
    "    print(f\"--Inner -- num = {num}\")\n",
    "    if num == 0:\n",
    "        return 0\n",
    "    result = num + recursive_sum(num - 1)\n",
    "    print(f\"-- Outer --result = {result}\")\n",
    "\n",
    "    return result"
   ]
  },
  {
   "cell_type": "code",
   "execution_count": 15,
   "metadata": {},
   "outputs": [
    {
     "name": "stdout",
     "output_type": "stream",
     "text": [
      "--Inner -- num = 5\n",
      "--Inner -- num = 4\n",
      "--Inner -- num = 3\n",
      "--Inner -- num = 2\n",
      "--Inner -- num = 1\n",
      "--Inner -- num = 0\n",
      "-- Outer --result = 1\n",
      "-- Outer --result = 3\n",
      "-- Outer --result = 6\n",
      "-- Outer --result = 10\n",
      "-- Outer --result = 15\n",
      "15\n"
     ]
    }
   ],
   "source": [
    "print(recursive_sum(5))"
   ]
  },
  {
   "cell_type": "code",
   "execution_count": 16,
   "metadata": {},
   "outputs": [],
   "source": [
    "def factorial_num(num):\n",
    "    print(f\"--Inner-- num = {num}\")\n",
    "\n",
    "    if num < 0:\n",
    "        print(f\"Factorial is impossible on negative numbers: {num}\")\n",
    "        return\n",
    "    if num == 0:\n",
    "        return 1\n",
    "    res = num * factorial_num(num -1)\n",
    "    print(f\"--outer-- res = {res}\")\n",
    "    return res"
   ]
  },
  {
   "cell_type": "code",
   "execution_count": 18,
   "metadata": {},
   "outputs": [
    {
     "name": "stdout",
     "output_type": "stream",
     "text": [
      "--Inner-- num = 5\n",
      "--Inner-- num = 4\n",
      "--Inner-- num = 3\n",
      "--Inner-- num = 2\n",
      "--Inner-- num = 1\n",
      "--Inner-- num = 0\n",
      "--outer-- res = 1\n",
      "--outer-- res = 2\n",
      "--outer-- res = 6\n",
      "--outer-- res = 24\n",
      "--outer-- res = 120\n"
     ]
    },
    {
     "data": {
      "text/plain": [
       "120"
      ]
     },
     "execution_count": 18,
     "metadata": {},
     "output_type": "execute_result"
    }
   ],
   "source": [
    "factorial_num(5)"
   ]
  },
  {
   "cell_type": "code",
   "execution_count": 43,
   "metadata": {},
   "outputs": [],
   "source": [
    "def fibonacci(number, fib_series=[1,1]):\n",
    "    print(f\" number = {number}, fib_series = {fib_series}\")\n",
    "    if number < 2:\n",
    "        return fib_series\n",
    "    \n",
    "    l = len(fib_series)\n",
    "\n",
    "    new_number = fib_series[l -1] + fib_series[l-2]\n",
    "\n",
    "    fib_series.append(new_number)\n",
    "    return fibonacci(number -1, fib_series)"
   ]
  },
  {
   "cell_type": "code",
   "execution_count": 44,
   "metadata": {},
   "outputs": [
    {
     "name": "stdout",
     "output_type": "stream",
     "text": [
      " number = 5, fib_series = [1, 1]\n",
      " number = 4, fib_series = [1, 1, 2]\n",
      " number = 3, fib_series = [1, 1, 2, 3]\n",
      " number = 2, fib_series = [1, 1, 2, 3, 5]\n",
      " number = 1, fib_series = [1, 1, 2, 3, 5, 8]\n"
     ]
    },
    {
     "data": {
      "text/plain": [
       "[1, 1, 2, 3, 5, 8]"
      ]
     },
     "execution_count": 44,
     "metadata": {},
     "output_type": "execute_result"
    }
   ],
   "source": [
    "\n",
    "fibonacci(5)"
   ]
  },
  {
   "attachments": {},
   "cell_type": "markdown",
   "metadata": {},
   "source": [
    "### Iterators\n",
    "Any object that responds to the builtin next() function\n",
    "### generators\n",
    "A function thet is a simple way of creating iteraors over a sequence\n",
    "### yield\n",
    "se utiliza para controlar la ejecución de las funciones"
   ]
  },
  {
   "cell_type": "code",
   "execution_count": 45,
   "metadata": {},
   "outputs": [],
   "source": [
    "def generator():\n",
    "    print(\"One!\")\n",
    "    yield 1\n",
    "    print(\"Two!\")\n",
    "    yield 2\n",
    "    print(\"Three!\")\n",
    "    yield 3\n",
    "    print(\"Four!\")\n",
    "    yield 4"
   ]
  },
  {
   "cell_type": "code",
   "execution_count": 51,
   "metadata": {},
   "outputs": [
    {
     "name": "stdout",
     "output_type": "stream",
     "text": [
      "One!\n",
      "Two!\n",
      "Three!\n",
      "Four!\n",
      "Unexpected exception formatting exception. Falling back to standard exception\n"
     ]
    },
    {
     "name": "stderr",
     "output_type": "stream",
     "text": [
      "Traceback (most recent call last):\n",
      "  File \"c:\\Users\\ng71cd8\\Documents\\__Devs\\Tests\\venv\\lib\\site-packages\\IPython\\core\\interactiveshell.py\", line 3460, in run_code\n",
      "    exec(code_obj, self.user_global_ns, self.user_ns)\n",
      "  File \"C:\\Temp\\ipykernel_18060\\3470080428.py\", line 6, in <module>\n",
      "    next(g)\n",
      "StopIteration\n",
      "\n",
      "During handling of the above exception, another exception occurred:\n",
      "\n",
      "Traceback (most recent call last):\n",
      "  File \"c:\\Users\\ng71cd8\\Documents\\__Devs\\Tests\\venv\\lib\\site-packages\\pygments\\lexer.py\", line 499, in _process_state\n",
      "    rex = cls._process_regex(tdef[0], rflags, state)\n",
      "  File \"c:\\Users\\ng71cd8\\Documents\\__Devs\\Tests\\venv\\lib\\site-packages\\pygments\\lexer.py\", line 427, in _process_regex\n",
      "    regex = regex.get()\n",
      "  File \"c:\\Users\\ng71cd8\\Documents\\__Devs\\Tests\\venv\\lib\\site-packages\\pygments\\lexer.py\", line 415, in get\n",
      "    return regex_opt(self.words, prefix=self.prefix, suffix=self.suffix)\n",
      "  File \"c:\\Users\\ng71cd8\\Documents\\__Devs\\Tests\\venv\\lib\\site-packages\\pygments\\regexopt.py\", line 91, in regex_opt\n",
      "    return prefix + regex_opt_inner(strings, '(') + suffix\n",
      "  File \"c:\\Users\\ng71cd8\\Documents\\__Devs\\Tests\\venv\\lib\\site-packages\\pygments\\regexopt.py\", line 77, in regex_opt_inner\n",
      "    '|'.join(regex_opt_inner(list(group[1]), '')\n",
      "  File \"c:\\Users\\ng71cd8\\Documents\\__Devs\\Tests\\venv\\lib\\site-packages\\pygments\\regexopt.py\", line 77, in <genexpr>\n",
      "    '|'.join(regex_opt_inner(list(group[1]), '')\n",
      "  File \"c:\\Users\\ng71cd8\\Documents\\__Devs\\Tests\\venv\\lib\\site-packages\\pygments\\regexopt.py\", line 77, in regex_opt_inner\n",
      "    '|'.join(regex_opt_inner(list(group[1]), '')\n",
      "  File \"c:\\Users\\ng71cd8\\Documents\\__Devs\\Tests\\venv\\lib\\site-packages\\pygments\\regexopt.py\", line 77, in <genexpr>\n",
      "    '|'.join(regex_opt_inner(list(group[1]), '')\n",
      "  File \"c:\\Users\\ng71cd8\\Documents\\__Devs\\Tests\\venv\\lib\\site-packages\\pygments\\regexopt.py\", line 77, in regex_opt_inner\n",
      "    '|'.join(regex_opt_inner(list(group[1]), '')\n",
      "  File \"c:\\Users\\ng71cd8\\Documents\\__Devs\\Tests\\venv\\lib\\site-packages\\pygments\\regexopt.py\", line 77, in <genexpr>\n",
      "    '|'.join(regex_opt_inner(list(group[1]), '')\n",
      "  File \"c:\\Users\\ng71cd8\\Documents\\__Devs\\Tests\\venv\\lib\\site-packages\\pygments\\regexopt.py\", line 77, in regex_opt_inner\n",
      "    '|'.join(regex_opt_inner(list(group[1]), '')\n",
      "  File \"c:\\Users\\ng71cd8\\Documents\\__Devs\\Tests\\venv\\lib\\site-packages\\pygments\\regexopt.py\", line 77, in <genexpr>\n",
      "    '|'.join(regex_opt_inner(list(group[1]), '')\n",
      "  File \"c:\\Users\\ng71cd8\\Documents\\__Devs\\Tests\\venv\\lib\\site-packages\\pygments\\regexopt.py\", line 77, in regex_opt_inner\n",
      "    '|'.join(regex_opt_inner(list(group[1]), '')\n",
      "  File \"c:\\Users\\ng71cd8\\Documents\\__Devs\\Tests\\venv\\lib\\site-packages\\pygments\\regexopt.py\", line 77, in <genexpr>\n",
      "    '|'.join(regex_opt_inner(list(group[1]), '')\n",
      "  File \"c:\\Users\\ng71cd8\\Documents\\__Devs\\Tests\\venv\\lib\\site-packages\\pygments\\regexopt.py\", line 77, in regex_opt_inner\n",
      "    '|'.join(regex_opt_inner(list(group[1]), '')\n",
      "  File \"c:\\Users\\ng71cd8\\Documents\\__Devs\\Tests\\venv\\lib\\site-packages\\pygments\\regexopt.py\", line 77, in <genexpr>\n",
      "    '|'.join(regex_opt_inner(list(group[1]), '')\n",
      "  File \"c:\\Users\\ng71cd8\\Documents\\__Devs\\Tests\\venv\\lib\\site-packages\\pygments\\regexopt.py\", line 77, in regex_opt_inner\n",
      "    '|'.join(regex_opt_inner(list(group[1]), '')\n",
      "  File \"c:\\Users\\ng71cd8\\Documents\\__Devs\\Tests\\venv\\lib\\site-packages\\pygments\\regexopt.py\", line 77, in <genexpr>\n",
      "    '|'.join(regex_opt_inner(list(group[1]), '')\n",
      "  File \"c:\\Users\\ng71cd8\\Documents\\__Devs\\Tests\\venv\\lib\\site-packages\\pygments\\regexopt.py\", line 77, in regex_opt_inner\n",
      "    '|'.join(regex_opt_inner(list(group[1]), '')\n",
      "  File \"c:\\Users\\ng71cd8\\Documents\\__Devs\\Tests\\venv\\lib\\site-packages\\pygments\\regexopt.py\", line 77, in <genexpr>\n",
      "    '|'.join(regex_opt_inner(list(group[1]), '')\n",
      "  File \"c:\\Users\\ng71cd8\\Documents\\__Devs\\Tests\\venv\\lib\\site-packages\\pygments\\regexopt.py\", line 77, in regex_opt_inner\n",
      "    '|'.join(regex_opt_inner(list(group[1]), '')\n",
      "  File \"c:\\Users\\ng71cd8\\Documents\\__Devs\\Tests\\venv\\lib\\site-packages\\pygments\\regexopt.py\", line 77, in <genexpr>\n",
      "    '|'.join(regex_opt_inner(list(group[1]), '')\n",
      "  File \"c:\\Users\\ng71cd8\\Documents\\__Devs\\Tests\\venv\\lib\\site-packages\\pygments\\regexopt.py\", line 77, in regex_opt_inner\n",
      "    '|'.join(regex_opt_inner(list(group[1]), '')\n",
      "  File \"c:\\Users\\ng71cd8\\Documents\\__Devs\\Tests\\venv\\lib\\site-packages\\pygments\\regexopt.py\", line 77, in <genexpr>\n",
      "    '|'.join(regex_opt_inner(list(group[1]), '')\n",
      "  File \"c:\\Users\\ng71cd8\\Documents\\__Devs\\Tests\\venv\\lib\\site-packages\\pygments\\regexopt.py\", line 77, in regex_opt_inner\n",
      "    '|'.join(regex_opt_inner(list(group[1]), '')\n",
      "  File \"c:\\Users\\ng71cd8\\Documents\\__Devs\\Tests\\venv\\lib\\site-packages\\pygments\\regexopt.py\", line 77, in <genexpr>\n",
      "    '|'.join(regex_opt_inner(list(group[1]), '')\n",
      "  File \"c:\\Users\\ng71cd8\\Documents\\__Devs\\Tests\\venv\\lib\\site-packages\\pygments\\regexopt.py\", line 77, in regex_opt_inner\n",
      "    '|'.join(regex_opt_inner(list(group[1]), '')\n",
      "  File \"c:\\Users\\ng71cd8\\Documents\\__Devs\\Tests\\venv\\lib\\site-packages\\pygments\\regexopt.py\", line 77, in <genexpr>\n",
      "    '|'.join(regex_opt_inner(list(group[1]), '')\n",
      "  File \"c:\\Users\\ng71cd8\\Documents\\__Devs\\Tests\\venv\\lib\\site-packages\\pygments\\regexopt.py\", line 77, in regex_opt_inner\n",
      "    '|'.join(regex_opt_inner(list(group[1]), '')\n",
      "  File \"c:\\Users\\ng71cd8\\Documents\\__Devs\\Tests\\venv\\lib\\site-packages\\pygments\\regexopt.py\", line 77, in <genexpr>\n",
      "    '|'.join(regex_opt_inner(list(group[1]), '')\n",
      "  File \"c:\\Users\\ng71cd8\\Documents\\__Devs\\Tests\\venv\\lib\\site-packages\\pygments\\regexopt.py\", line 77, in regex_opt_inner\n",
      "    '|'.join(regex_opt_inner(list(group[1]), '')\n",
      "  File \"c:\\Users\\ng71cd8\\Documents\\__Devs\\Tests\\venv\\lib\\site-packages\\pygments\\regexopt.py\", line 77, in <genexpr>\n",
      "    '|'.join(regex_opt_inner(list(group[1]), '')\n",
      "  File \"c:\\Users\\ng71cd8\\Documents\\__Devs\\Tests\\venv\\lib\\site-packages\\pygments\\regexopt.py\", line 63, in regex_opt_inner\n",
      "    + regex_opt_inner([s[plen:] for s in strings], '(?:') \\\n",
      "  File \"c:\\Users\\ng71cd8\\Documents\\__Devs\\Tests\\venv\\lib\\site-packages\\pygments\\regexopt.py\", line 77, in regex_opt_inner\n",
      "    '|'.join(regex_opt_inner(list(group[1]), '')\n",
      "  File \"c:\\Users\\ng71cd8\\Documents\\__Devs\\Tests\\venv\\lib\\site-packages\\pygments\\regexopt.py\", line 77, in <genexpr>\n",
      "    '|'.join(regex_opt_inner(list(group[1]), '')\n",
      "  File \"c:\\Users\\ng71cd8\\Documents\\__Devs\\Tests\\venv\\lib\\site-packages\\pygments\\regexopt.py\", line 77, in regex_opt_inner\n",
      "    '|'.join(regex_opt_inner(list(group[1]), '')\n",
      "  File \"c:\\Users\\ng71cd8\\Documents\\__Devs\\Tests\\venv\\lib\\site-packages\\pygments\\regexopt.py\", line 77, in <genexpr>\n",
      "    '|'.join(regex_opt_inner(list(group[1]), '')\n",
      "  File \"c:\\Users\\ng71cd8\\Documents\\__Devs\\Tests\\venv\\lib\\site-packages\\pygments\\regexopt.py\", line 77, in regex_opt_inner\n",
      "    '|'.join(regex_opt_inner(list(group[1]), '')\n",
      "  File \"c:\\Users\\ng71cd8\\Documents\\__Devs\\Tests\\venv\\lib\\site-packages\\pygments\\regexopt.py\", line 77, in <genexpr>\n",
      "    '|'.join(regex_opt_inner(list(group[1]), '')\n",
      "  File \"c:\\Users\\ng71cd8\\Documents\\__Devs\\Tests\\venv\\lib\\site-packages\\pygments\\regexopt.py\", line 36, in regex_opt_inner\n",
      "    return open_paren + escape(first) + close_paren\n",
      "  File \"C:\\Users\\ng71cd8\\AppData\\Local\\Programs\\Python\\Python38-32\\lib\\re.py\", line 273, in escape\n",
      "    return pattern.translate(_special_chars_map)\n",
      "RecursionError: maximum recursion depth exceeded while calling a Python object\n",
      "\n",
      "The above exception was the direct cause of the following exception:\n",
      "\n",
      "Traceback (most recent call last):\n",
      "  File \"c:\\Users\\ng71cd8\\Documents\\__Devs\\Tests\\venv\\lib\\site-packages\\IPython\\core\\interactiveshell.py\", line 2057, in showtraceback\n",
      "    stb = self.InteractiveTB.structured_traceback(\n",
      "  File \"c:\\Users\\ng71cd8\\Documents\\__Devs\\Tests\\venv\\lib\\site-packages\\IPython\\core\\ultratb.py\", line 1288, in structured_traceback\n",
      "    return FormattedTB.structured_traceback(\n",
      "  File \"c:\\Users\\ng71cd8\\Documents\\__Devs\\Tests\\venv\\lib\\site-packages\\IPython\\core\\ultratb.py\", line 1177, in structured_traceback\n",
      "    return VerboseTB.structured_traceback(\n",
      "  File \"c:\\Users\\ng71cd8\\Documents\\__Devs\\Tests\\venv\\lib\\site-packages\\IPython\\core\\ultratb.py\", line 1030, in structured_traceback\n",
      "    formatted_exception = self.format_exception_as_a_whole(etype, evalue, etb, number_of_lines_of_context,\n",
      "  File \"c:\\Users\\ng71cd8\\Documents\\__Devs\\Tests\\venv\\lib\\site-packages\\IPython\\core\\ultratb.py\", line 960, in format_exception_as_a_whole\n",
      "    frames.append(self.format_record(record))\n",
      "  File \"c:\\Users\\ng71cd8\\Documents\\__Devs\\Tests\\venv\\lib\\site-packages\\IPython\\core\\ultratb.py\", line 869, in format_record\n",
      "    _format_traceback_lines(\n",
      "  File \"c:\\Users\\ng71cd8\\Documents\\__Devs\\Tests\\venv\\lib\\site-packages\\IPython\\core\\ultratb.py\", line 158, in _format_traceback_lines\n",
      "    line = stack_line.render(pygmented=has_colors).rstrip('\\n') + '\\n'\n",
      "  File \"c:\\Users\\ng71cd8\\Documents\\__Devs\\Tests\\venv\\lib\\site-packages\\stack_data\\core.py\", line 391, in render\n",
      "    start_line, lines = self.frame_info._pygmented_scope_lines\n",
      "  File \"c:\\Users\\ng71cd8\\Documents\\__Devs\\Tests\\venv\\lib\\site-packages\\stack_data\\utils.py\", line 144, in cached_property_wrapper\n",
      "    value = obj.__dict__[self.func.__name__] = self.func(obj)\n",
      "  File \"c:\\Users\\ng71cd8\\Documents\\__Devs\\Tests\\venv\\lib\\site-packages\\stack_data\\core.py\", line 824, in _pygmented_scope_lines\n",
      "    lines = _pygmented_with_ranges(formatter, code, ranges)\n",
      "  File \"c:\\Users\\ng71cd8\\Documents\\__Devs\\Tests\\venv\\lib\\site-packages\\stack_data\\utils.py\", line 163, in _pygmented_with_ranges\n",
      "    lexer = MyLexer(stripnl=False)\n",
      "  File \"c:\\Users\\ng71cd8\\Documents\\__Devs\\Tests\\venv\\lib\\site-packages\\pygments\\lexer.py\", line 581, in __call__\n",
      "    cls._tokens = cls.process_tokendef('', cls.get_tokendefs())\n",
      "  File \"c:\\Users\\ng71cd8\\Documents\\__Devs\\Tests\\venv\\lib\\site-packages\\pygments\\lexer.py\", line 520, in process_tokendef\n",
      "    cls._process_state(tokendefs, processed, state)\n",
      "  File \"c:\\Users\\ng71cd8\\Documents\\__Devs\\Tests\\venv\\lib\\site-packages\\pygments\\lexer.py\", line 483, in _process_state\n",
      "    tokens.extend(cls._process_state(unprocessed, processed,\n",
      "  File \"c:\\Users\\ng71cd8\\Documents\\__Devs\\Tests\\venv\\lib\\site-packages\\pygments\\lexer.py\", line 483, in _process_state\n",
      "    tokens.extend(cls._process_state(unprocessed, processed,\n",
      "  File \"c:\\Users\\ng71cd8\\Documents\\__Devs\\Tests\\venv\\lib\\site-packages\\pygments\\lexer.py\", line 501, in _process_state\n",
      "    raise ValueError(\"uncompilable regex %r in state %r of %r: %s\" %\n",
      "ValueError: uncompilable regex <pygments.lexer.words object at 0x03F312F8> in state 'builtins' of <class 'stack_data.utils._pygmented_with_ranges.<locals>.MyLexer'>: maximum recursion depth exceeded while calling a Python object\n"
     ]
    }
   ],
   "source": [
    "g = generator()\n",
    "next(g)\n",
    "next(g)\n",
    "next(g)\n",
    "next(g)\n",
    "next(g)"
   ]
  },
  {
   "cell_type": "code",
   "execution_count": 52,
   "metadata": {},
   "outputs": [],
   "source": [
    "def generator():\n",
    "    n=1\n",
    "    print(\"One!\")\n",
    "    yield n\n",
    "    n += 1\n",
    "    print(\"Two!\")\n",
    "    yield n\n",
    "    n += 1\n",
    "    print(\"Three!\")\n",
    "    yield n\n",
    "    n += 1\n",
    "    print(\"Four!\")\n",
    "    yield n"
   ]
  },
  {
   "cell_type": "code",
   "execution_count": 53,
   "metadata": {},
   "outputs": [
    {
     "name": "stdout",
     "output_type": "stream",
     "text": [
      "One!\n",
      "Two!\n",
      "Three!\n",
      "Four!\n",
      "Unexpected exception formatting exception. Falling back to standard exception\n"
     ]
    },
    {
     "name": "stderr",
     "output_type": "stream",
     "text": [
      "Traceback (most recent call last):\n",
      "  File \"c:\\Users\\ng71cd8\\Documents\\__Devs\\Tests\\venv\\lib\\site-packages\\IPython\\core\\interactiveshell.py\", line 3460, in run_code\n",
      "    exec(code_obj, self.user_global_ns, self.user_ns)\n",
      "  File \"C:\\Temp\\ipykernel_18060\\3470080428.py\", line 6, in <module>\n",
      "    next(g)\n",
      "StopIteration\n",
      "\n",
      "During handling of the above exception, another exception occurred:\n",
      "\n",
      "Traceback (most recent call last):\n",
      "  File \"c:\\Users\\ng71cd8\\Documents\\__Devs\\Tests\\venv\\lib\\site-packages\\pygments\\lexer.py\", line 499, in _process_state\n",
      "    rex = cls._process_regex(tdef[0], rflags, state)\n",
      "  File \"c:\\Users\\ng71cd8\\Documents\\__Devs\\Tests\\venv\\lib\\site-packages\\pygments\\lexer.py\", line 427, in _process_regex\n",
      "    regex = regex.get()\n",
      "  File \"c:\\Users\\ng71cd8\\Documents\\__Devs\\Tests\\venv\\lib\\site-packages\\pygments\\lexer.py\", line 415, in get\n",
      "    return regex_opt(self.words, prefix=self.prefix, suffix=self.suffix)\n",
      "  File \"c:\\Users\\ng71cd8\\Documents\\__Devs\\Tests\\venv\\lib\\site-packages\\pygments\\regexopt.py\", line 91, in regex_opt\n",
      "    return prefix + regex_opt_inner(strings, '(') + suffix\n",
      "  File \"c:\\Users\\ng71cd8\\Documents\\__Devs\\Tests\\venv\\lib\\site-packages\\pygments\\regexopt.py\", line 77, in regex_opt_inner\n",
      "    '|'.join(regex_opt_inner(list(group[1]), '')\n",
      "  File \"c:\\Users\\ng71cd8\\Documents\\__Devs\\Tests\\venv\\lib\\site-packages\\pygments\\regexopt.py\", line 77, in <genexpr>\n",
      "    '|'.join(regex_opt_inner(list(group[1]), '')\n",
      "  File \"c:\\Users\\ng71cd8\\Documents\\__Devs\\Tests\\venv\\lib\\site-packages\\pygments\\regexopt.py\", line 77, in regex_opt_inner\n",
      "    '|'.join(regex_opt_inner(list(group[1]), '')\n",
      "  File \"c:\\Users\\ng71cd8\\Documents\\__Devs\\Tests\\venv\\lib\\site-packages\\pygments\\regexopt.py\", line 77, in <genexpr>\n",
      "    '|'.join(regex_opt_inner(list(group[1]), '')\n",
      "  File \"c:\\Users\\ng71cd8\\Documents\\__Devs\\Tests\\venv\\lib\\site-packages\\pygments\\regexopt.py\", line 77, in regex_opt_inner\n",
      "    '|'.join(regex_opt_inner(list(group[1]), '')\n",
      "  File \"c:\\Users\\ng71cd8\\Documents\\__Devs\\Tests\\venv\\lib\\site-packages\\pygments\\regexopt.py\", line 77, in <genexpr>\n",
      "    '|'.join(regex_opt_inner(list(group[1]), '')\n",
      "  File \"c:\\Users\\ng71cd8\\Documents\\__Devs\\Tests\\venv\\lib\\site-packages\\pygments\\regexopt.py\", line 77, in regex_opt_inner\n",
      "    '|'.join(regex_opt_inner(list(group[1]), '')\n",
      "  File \"c:\\Users\\ng71cd8\\Documents\\__Devs\\Tests\\venv\\lib\\site-packages\\pygments\\regexopt.py\", line 77, in <genexpr>\n",
      "    '|'.join(regex_opt_inner(list(group[1]), '')\n",
      "  File \"c:\\Users\\ng71cd8\\Documents\\__Devs\\Tests\\venv\\lib\\site-packages\\pygments\\regexopt.py\", line 77, in regex_opt_inner\n",
      "    '|'.join(regex_opt_inner(list(group[1]), '')\n",
      "  File \"c:\\Users\\ng71cd8\\Documents\\__Devs\\Tests\\venv\\lib\\site-packages\\pygments\\regexopt.py\", line 77, in <genexpr>\n",
      "    '|'.join(regex_opt_inner(list(group[1]), '')\n",
      "  File \"c:\\Users\\ng71cd8\\Documents\\__Devs\\Tests\\venv\\lib\\site-packages\\pygments\\regexopt.py\", line 77, in regex_opt_inner\n",
      "    '|'.join(regex_opt_inner(list(group[1]), '')\n",
      "  File \"c:\\Users\\ng71cd8\\Documents\\__Devs\\Tests\\venv\\lib\\site-packages\\pygments\\regexopt.py\", line 77, in <genexpr>\n",
      "    '|'.join(regex_opt_inner(list(group[1]), '')\n",
      "  File \"c:\\Users\\ng71cd8\\Documents\\__Devs\\Tests\\venv\\lib\\site-packages\\pygments\\regexopt.py\", line 77, in regex_opt_inner\n",
      "    '|'.join(regex_opt_inner(list(group[1]), '')\n",
      "  File \"c:\\Users\\ng71cd8\\Documents\\__Devs\\Tests\\venv\\lib\\site-packages\\pygments\\regexopt.py\", line 77, in <genexpr>\n",
      "    '|'.join(regex_opt_inner(list(group[1]), '')\n",
      "  File \"c:\\Users\\ng71cd8\\Documents\\__Devs\\Tests\\venv\\lib\\site-packages\\pygments\\regexopt.py\", line 77, in regex_opt_inner\n",
      "    '|'.join(regex_opt_inner(list(group[1]), '')\n",
      "  File \"c:\\Users\\ng71cd8\\Documents\\__Devs\\Tests\\venv\\lib\\site-packages\\pygments\\regexopt.py\", line 77, in <genexpr>\n",
      "    '|'.join(regex_opt_inner(list(group[1]), '')\n",
      "  File \"c:\\Users\\ng71cd8\\Documents\\__Devs\\Tests\\venv\\lib\\site-packages\\pygments\\regexopt.py\", line 77, in regex_opt_inner\n",
      "    '|'.join(regex_opt_inner(list(group[1]), '')\n",
      "  File \"c:\\Users\\ng71cd8\\Documents\\__Devs\\Tests\\venv\\lib\\site-packages\\pygments\\regexopt.py\", line 77, in <genexpr>\n",
      "    '|'.join(regex_opt_inner(list(group[1]), '')\n",
      "  File \"c:\\Users\\ng71cd8\\Documents\\__Devs\\Tests\\venv\\lib\\site-packages\\pygments\\regexopt.py\", line 77, in regex_opt_inner\n",
      "    '|'.join(regex_opt_inner(list(group[1]), '')\n",
      "  File \"c:\\Users\\ng71cd8\\Documents\\__Devs\\Tests\\venv\\lib\\site-packages\\pygments\\regexopt.py\", line 77, in <genexpr>\n",
      "    '|'.join(regex_opt_inner(list(group[1]), '')\n",
      "  File \"c:\\Users\\ng71cd8\\Documents\\__Devs\\Tests\\venv\\lib\\site-packages\\pygments\\regexopt.py\", line 77, in regex_opt_inner\n",
      "    '|'.join(regex_opt_inner(list(group[1]), '')\n",
      "  File \"c:\\Users\\ng71cd8\\Documents\\__Devs\\Tests\\venv\\lib\\site-packages\\pygments\\regexopt.py\", line 77, in <genexpr>\n",
      "    '|'.join(regex_opt_inner(list(group[1]), '')\n",
      "  File \"c:\\Users\\ng71cd8\\Documents\\__Devs\\Tests\\venv\\lib\\site-packages\\pygments\\regexopt.py\", line 77, in regex_opt_inner\n",
      "    '|'.join(regex_opt_inner(list(group[1]), '')\n",
      "  File \"c:\\Users\\ng71cd8\\Documents\\__Devs\\Tests\\venv\\lib\\site-packages\\pygments\\regexopt.py\", line 77, in <genexpr>\n",
      "    '|'.join(regex_opt_inner(list(group[1]), '')\n",
      "  File \"c:\\Users\\ng71cd8\\Documents\\__Devs\\Tests\\venv\\lib\\site-packages\\pygments\\regexopt.py\", line 77, in regex_opt_inner\n",
      "    '|'.join(regex_opt_inner(list(group[1]), '')\n",
      "  File \"c:\\Users\\ng71cd8\\Documents\\__Devs\\Tests\\venv\\lib\\site-packages\\pygments\\regexopt.py\", line 77, in <genexpr>\n",
      "    '|'.join(regex_opt_inner(list(group[1]), '')\n",
      "  File \"c:\\Users\\ng71cd8\\Documents\\__Devs\\Tests\\venv\\lib\\site-packages\\pygments\\regexopt.py\", line 77, in regex_opt_inner\n",
      "    '|'.join(regex_opt_inner(list(group[1]), '')\n",
      "  File \"c:\\Users\\ng71cd8\\Documents\\__Devs\\Tests\\venv\\lib\\site-packages\\pygments\\regexopt.py\", line 77, in <genexpr>\n",
      "    '|'.join(regex_opt_inner(list(group[1]), '')\n",
      "  File \"c:\\Users\\ng71cd8\\Documents\\__Devs\\Tests\\venv\\lib\\site-packages\\pygments\\regexopt.py\", line 63, in regex_opt_inner\n",
      "    + regex_opt_inner([s[plen:] for s in strings], '(?:') \\\n",
      "  File \"c:\\Users\\ng71cd8\\Documents\\__Devs\\Tests\\venv\\lib\\site-packages\\pygments\\regexopt.py\", line 77, in regex_opt_inner\n",
      "    '|'.join(regex_opt_inner(list(group[1]), '')\n",
      "  File \"c:\\Users\\ng71cd8\\Documents\\__Devs\\Tests\\venv\\lib\\site-packages\\pygments\\regexopt.py\", line 77, in <genexpr>\n",
      "    '|'.join(regex_opt_inner(list(group[1]), '')\n",
      "  File \"c:\\Users\\ng71cd8\\Documents\\__Devs\\Tests\\venv\\lib\\site-packages\\pygments\\regexopt.py\", line 77, in regex_opt_inner\n",
      "    '|'.join(regex_opt_inner(list(group[1]), '')\n",
      "  File \"c:\\Users\\ng71cd8\\Documents\\__Devs\\Tests\\venv\\lib\\site-packages\\pygments\\regexopt.py\", line 77, in <genexpr>\n",
      "    '|'.join(regex_opt_inner(list(group[1]), '')\n",
      "  File \"c:\\Users\\ng71cd8\\Documents\\__Devs\\Tests\\venv\\lib\\site-packages\\pygments\\regexopt.py\", line 77, in regex_opt_inner\n",
      "    '|'.join(regex_opt_inner(list(group[1]), '')\n",
      "  File \"c:\\Users\\ng71cd8\\Documents\\__Devs\\Tests\\venv\\lib\\site-packages\\pygments\\regexopt.py\", line 77, in <genexpr>\n",
      "    '|'.join(regex_opt_inner(list(group[1]), '')\n",
      "  File \"c:\\Users\\ng71cd8\\Documents\\__Devs\\Tests\\venv\\lib\\site-packages\\pygments\\regexopt.py\", line 36, in regex_opt_inner\n",
      "    return open_paren + escape(first) + close_paren\n",
      "  File \"C:\\Users\\ng71cd8\\AppData\\Local\\Programs\\Python\\Python38-32\\lib\\re.py\", line 273, in escape\n",
      "    return pattern.translate(_special_chars_map)\n",
      "RecursionError: maximum recursion depth exceeded while calling a Python object\n",
      "\n",
      "The above exception was the direct cause of the following exception:\n",
      "\n",
      "Traceback (most recent call last):\n",
      "  File \"c:\\Users\\ng71cd8\\Documents\\__Devs\\Tests\\venv\\lib\\site-packages\\IPython\\core\\interactiveshell.py\", line 2057, in showtraceback\n",
      "    stb = self.InteractiveTB.structured_traceback(\n",
      "  File \"c:\\Users\\ng71cd8\\Documents\\__Devs\\Tests\\venv\\lib\\site-packages\\IPython\\core\\ultratb.py\", line 1288, in structured_traceback\n",
      "    return FormattedTB.structured_traceback(\n",
      "  File \"c:\\Users\\ng71cd8\\Documents\\__Devs\\Tests\\venv\\lib\\site-packages\\IPython\\core\\ultratb.py\", line 1177, in structured_traceback\n",
      "    return VerboseTB.structured_traceback(\n",
      "  File \"c:\\Users\\ng71cd8\\Documents\\__Devs\\Tests\\venv\\lib\\site-packages\\IPython\\core\\ultratb.py\", line 1030, in structured_traceback\n",
      "    formatted_exception = self.format_exception_as_a_whole(etype, evalue, etb, number_of_lines_of_context,\n",
      "  File \"c:\\Users\\ng71cd8\\Documents\\__Devs\\Tests\\venv\\lib\\site-packages\\IPython\\core\\ultratb.py\", line 960, in format_exception_as_a_whole\n",
      "    frames.append(self.format_record(record))\n",
      "  File \"c:\\Users\\ng71cd8\\Documents\\__Devs\\Tests\\venv\\lib\\site-packages\\IPython\\core\\ultratb.py\", line 869, in format_record\n",
      "    _format_traceback_lines(\n",
      "  File \"c:\\Users\\ng71cd8\\Documents\\__Devs\\Tests\\venv\\lib\\site-packages\\IPython\\core\\ultratb.py\", line 158, in _format_traceback_lines\n",
      "    line = stack_line.render(pygmented=has_colors).rstrip('\\n') + '\\n'\n",
      "  File \"c:\\Users\\ng71cd8\\Documents\\__Devs\\Tests\\venv\\lib\\site-packages\\stack_data\\core.py\", line 391, in render\n",
      "    start_line, lines = self.frame_info._pygmented_scope_lines\n",
      "  File \"c:\\Users\\ng71cd8\\Documents\\__Devs\\Tests\\venv\\lib\\site-packages\\stack_data\\utils.py\", line 144, in cached_property_wrapper\n",
      "    value = obj.__dict__[self.func.__name__] = self.func(obj)\n",
      "  File \"c:\\Users\\ng71cd8\\Documents\\__Devs\\Tests\\venv\\lib\\site-packages\\stack_data\\core.py\", line 824, in _pygmented_scope_lines\n",
      "    lines = _pygmented_with_ranges(formatter, code, ranges)\n",
      "  File \"c:\\Users\\ng71cd8\\Documents\\__Devs\\Tests\\venv\\lib\\site-packages\\stack_data\\utils.py\", line 163, in _pygmented_with_ranges\n",
      "    lexer = MyLexer(stripnl=False)\n",
      "  File \"c:\\Users\\ng71cd8\\Documents\\__Devs\\Tests\\venv\\lib\\site-packages\\pygments\\lexer.py\", line 581, in __call__\n",
      "    cls._tokens = cls.process_tokendef('', cls.get_tokendefs())\n",
      "  File \"c:\\Users\\ng71cd8\\Documents\\__Devs\\Tests\\venv\\lib\\site-packages\\pygments\\lexer.py\", line 520, in process_tokendef\n",
      "    cls._process_state(tokendefs, processed, state)\n",
      "  File \"c:\\Users\\ng71cd8\\Documents\\__Devs\\Tests\\venv\\lib\\site-packages\\pygments\\lexer.py\", line 483, in _process_state\n",
      "    tokens.extend(cls._process_state(unprocessed, processed,\n",
      "  File \"c:\\Users\\ng71cd8\\Documents\\__Devs\\Tests\\venv\\lib\\site-packages\\pygments\\lexer.py\", line 483, in _process_state\n",
      "    tokens.extend(cls._process_state(unprocessed, processed,\n",
      "  File \"c:\\Users\\ng71cd8\\Documents\\__Devs\\Tests\\venv\\lib\\site-packages\\pygments\\lexer.py\", line 501, in _process_state\n",
      "    raise ValueError(\"uncompilable regex %r in state %r of %r: %s\" %\n",
      "ValueError: uncompilable regex <pygments.lexer.words object at 0x03F312F8> in state 'builtins' of <class 'stack_data.utils._pygmented_with_ranges.<locals>.MyLexer'>: maximum recursion depth exceeded while calling a Python object\n"
     ]
    }
   ],
   "source": [
    "g = generator()\n",
    "next(g)\n",
    "next(g)\n",
    "next(g)\n",
    "next(g)\n",
    "next(g)"
   ]
  },
  {
   "cell_type": "code",
   "execution_count": 57,
   "metadata": {},
   "outputs": [
    {
     "name": "stdout",
     "output_type": "stream",
     "text": [
      "1\n",
      "2\n",
      "3\n",
      "Unexpected exception formatting exception. Falling back to standard exception\n"
     ]
    },
    {
     "name": "stderr",
     "output_type": "stream",
     "text": [
      "Traceback (most recent call last):\n",
      "  File \"c:\\Users\\ng71cd8\\Documents\\__Devs\\Tests\\venv\\lib\\site-packages\\IPython\\core\\interactiveshell.py\", line 3460, in run_code\n",
      "    exec(code_obj, self.user_global_ns, self.user_ns)\n",
      "  File \"C:\\Temp\\ipykernel_18060\\1940939034.py\", line 5, in <module>\n",
      "    print(next(lista))\n",
      "StopIteration\n",
      "\n",
      "During handling of the above exception, another exception occurred:\n",
      "\n",
      "Traceback (most recent call last):\n",
      "  File \"c:\\Users\\ng71cd8\\Documents\\__Devs\\Tests\\venv\\lib\\site-packages\\pygments\\lexer.py\", line 499, in _process_state\n",
      "    rex = cls._process_regex(tdef[0], rflags, state)\n",
      "  File \"c:\\Users\\ng71cd8\\Documents\\__Devs\\Tests\\venv\\lib\\site-packages\\pygments\\lexer.py\", line 427, in _process_regex\n",
      "    regex = regex.get()\n",
      "  File \"c:\\Users\\ng71cd8\\Documents\\__Devs\\Tests\\venv\\lib\\site-packages\\pygments\\lexer.py\", line 415, in get\n",
      "    return regex_opt(self.words, prefix=self.prefix, suffix=self.suffix)\n",
      "  File \"c:\\Users\\ng71cd8\\Documents\\__Devs\\Tests\\venv\\lib\\site-packages\\pygments\\regexopt.py\", line 91, in regex_opt\n",
      "    return prefix + regex_opt_inner(strings, '(') + suffix\n",
      "  File \"c:\\Users\\ng71cd8\\Documents\\__Devs\\Tests\\venv\\lib\\site-packages\\pygments\\regexopt.py\", line 77, in regex_opt_inner\n",
      "    '|'.join(regex_opt_inner(list(group[1]), '')\n",
      "  File \"c:\\Users\\ng71cd8\\Documents\\__Devs\\Tests\\venv\\lib\\site-packages\\pygments\\regexopt.py\", line 77, in <genexpr>\n",
      "    '|'.join(regex_opt_inner(list(group[1]), '')\n",
      "  File \"c:\\Users\\ng71cd8\\Documents\\__Devs\\Tests\\venv\\lib\\site-packages\\pygments\\regexopt.py\", line 77, in regex_opt_inner\n",
      "    '|'.join(regex_opt_inner(list(group[1]), '')\n",
      "  File \"c:\\Users\\ng71cd8\\Documents\\__Devs\\Tests\\venv\\lib\\site-packages\\pygments\\regexopt.py\", line 77, in <genexpr>\n",
      "    '|'.join(regex_opt_inner(list(group[1]), '')\n",
      "  File \"c:\\Users\\ng71cd8\\Documents\\__Devs\\Tests\\venv\\lib\\site-packages\\pygments\\regexopt.py\", line 77, in regex_opt_inner\n",
      "    '|'.join(regex_opt_inner(list(group[1]), '')\n",
      "  File \"c:\\Users\\ng71cd8\\Documents\\__Devs\\Tests\\venv\\lib\\site-packages\\pygments\\regexopt.py\", line 77, in <genexpr>\n",
      "    '|'.join(regex_opt_inner(list(group[1]), '')\n",
      "  File \"c:\\Users\\ng71cd8\\Documents\\__Devs\\Tests\\venv\\lib\\site-packages\\pygments\\regexopt.py\", line 77, in regex_opt_inner\n",
      "    '|'.join(regex_opt_inner(list(group[1]), '')\n",
      "  File \"c:\\Users\\ng71cd8\\Documents\\__Devs\\Tests\\venv\\lib\\site-packages\\pygments\\regexopt.py\", line 77, in <genexpr>\n",
      "    '|'.join(regex_opt_inner(list(group[1]), '')\n",
      "  File \"c:\\Users\\ng71cd8\\Documents\\__Devs\\Tests\\venv\\lib\\site-packages\\pygments\\regexopt.py\", line 77, in regex_opt_inner\n",
      "    '|'.join(regex_opt_inner(list(group[1]), '')\n",
      "  File \"c:\\Users\\ng71cd8\\Documents\\__Devs\\Tests\\venv\\lib\\site-packages\\pygments\\regexopt.py\", line 77, in <genexpr>\n",
      "    '|'.join(regex_opt_inner(list(group[1]), '')\n",
      "  File \"c:\\Users\\ng71cd8\\Documents\\__Devs\\Tests\\venv\\lib\\site-packages\\pygments\\regexopt.py\", line 77, in regex_opt_inner\n",
      "    '|'.join(regex_opt_inner(list(group[1]), '')\n",
      "  File \"c:\\Users\\ng71cd8\\Documents\\__Devs\\Tests\\venv\\lib\\site-packages\\pygments\\regexopt.py\", line 77, in <genexpr>\n",
      "    '|'.join(regex_opt_inner(list(group[1]), '')\n",
      "  File \"c:\\Users\\ng71cd8\\Documents\\__Devs\\Tests\\venv\\lib\\site-packages\\pygments\\regexopt.py\", line 77, in regex_opt_inner\n",
      "    '|'.join(regex_opt_inner(list(group[1]), '')\n",
      "  File \"c:\\Users\\ng71cd8\\Documents\\__Devs\\Tests\\venv\\lib\\site-packages\\pygments\\regexopt.py\", line 77, in <genexpr>\n",
      "    '|'.join(regex_opt_inner(list(group[1]), '')\n",
      "  File \"c:\\Users\\ng71cd8\\Documents\\__Devs\\Tests\\venv\\lib\\site-packages\\pygments\\regexopt.py\", line 77, in regex_opt_inner\n",
      "    '|'.join(regex_opt_inner(list(group[1]), '')\n",
      "  File \"c:\\Users\\ng71cd8\\Documents\\__Devs\\Tests\\venv\\lib\\site-packages\\pygments\\regexopt.py\", line 77, in <genexpr>\n",
      "    '|'.join(regex_opt_inner(list(group[1]), '')\n",
      "  File \"c:\\Users\\ng71cd8\\Documents\\__Devs\\Tests\\venv\\lib\\site-packages\\pygments\\regexopt.py\", line 77, in regex_opt_inner\n",
      "    '|'.join(regex_opt_inner(list(group[1]), '')\n",
      "  File \"c:\\Users\\ng71cd8\\Documents\\__Devs\\Tests\\venv\\lib\\site-packages\\pygments\\regexopt.py\", line 77, in <genexpr>\n",
      "    '|'.join(regex_opt_inner(list(group[1]), '')\n",
      "  File \"c:\\Users\\ng71cd8\\Documents\\__Devs\\Tests\\venv\\lib\\site-packages\\pygments\\regexopt.py\", line 77, in regex_opt_inner\n",
      "    '|'.join(regex_opt_inner(list(group[1]), '')\n",
      "  File \"c:\\Users\\ng71cd8\\Documents\\__Devs\\Tests\\venv\\lib\\site-packages\\pygments\\regexopt.py\", line 77, in <genexpr>\n",
      "    '|'.join(regex_opt_inner(list(group[1]), '')\n",
      "  File \"c:\\Users\\ng71cd8\\Documents\\__Devs\\Tests\\venv\\lib\\site-packages\\pygments\\regexopt.py\", line 77, in regex_opt_inner\n",
      "    '|'.join(regex_opt_inner(list(group[1]), '')\n",
      "  File \"c:\\Users\\ng71cd8\\Documents\\__Devs\\Tests\\venv\\lib\\site-packages\\pygments\\regexopt.py\", line 77, in <genexpr>\n",
      "    '|'.join(regex_opt_inner(list(group[1]), '')\n",
      "  File \"c:\\Users\\ng71cd8\\Documents\\__Devs\\Tests\\venv\\lib\\site-packages\\pygments\\regexopt.py\", line 77, in regex_opt_inner\n",
      "    '|'.join(regex_opt_inner(list(group[1]), '')\n",
      "  File \"c:\\Users\\ng71cd8\\Documents\\__Devs\\Tests\\venv\\lib\\site-packages\\pygments\\regexopt.py\", line 77, in <genexpr>\n",
      "    '|'.join(regex_opt_inner(list(group[1]), '')\n",
      "  File \"c:\\Users\\ng71cd8\\Documents\\__Devs\\Tests\\venv\\lib\\site-packages\\pygments\\regexopt.py\", line 77, in regex_opt_inner\n",
      "    '|'.join(regex_opt_inner(list(group[1]), '')\n",
      "  File \"c:\\Users\\ng71cd8\\Documents\\__Devs\\Tests\\venv\\lib\\site-packages\\pygments\\regexopt.py\", line 77, in <genexpr>\n",
      "    '|'.join(regex_opt_inner(list(group[1]), '')\n",
      "  File \"c:\\Users\\ng71cd8\\Documents\\__Devs\\Tests\\venv\\lib\\site-packages\\pygments\\regexopt.py\", line 77, in regex_opt_inner\n",
      "    '|'.join(regex_opt_inner(list(group[1]), '')\n",
      "  File \"c:\\Users\\ng71cd8\\Documents\\__Devs\\Tests\\venv\\lib\\site-packages\\pygments\\regexopt.py\", line 77, in <genexpr>\n",
      "    '|'.join(regex_opt_inner(list(group[1]), '')\n",
      "  File \"c:\\Users\\ng71cd8\\Documents\\__Devs\\Tests\\venv\\lib\\site-packages\\pygments\\regexopt.py\", line 63, in regex_opt_inner\n",
      "    + regex_opt_inner([s[plen:] for s in strings], '(?:') \\\n",
      "  File \"c:\\Users\\ng71cd8\\Documents\\__Devs\\Tests\\venv\\lib\\site-packages\\pygments\\regexopt.py\", line 77, in regex_opt_inner\n",
      "    '|'.join(regex_opt_inner(list(group[1]), '')\n",
      "  File \"c:\\Users\\ng71cd8\\Documents\\__Devs\\Tests\\venv\\lib\\site-packages\\pygments\\regexopt.py\", line 77, in <genexpr>\n",
      "    '|'.join(regex_opt_inner(list(group[1]), '')\n",
      "  File \"c:\\Users\\ng71cd8\\Documents\\__Devs\\Tests\\venv\\lib\\site-packages\\pygments\\regexopt.py\", line 77, in regex_opt_inner\n",
      "    '|'.join(regex_opt_inner(list(group[1]), '')\n",
      "  File \"c:\\Users\\ng71cd8\\Documents\\__Devs\\Tests\\venv\\lib\\site-packages\\pygments\\regexopt.py\", line 77, in <genexpr>\n",
      "    '|'.join(regex_opt_inner(list(group[1]), '')\n",
      "  File \"c:\\Users\\ng71cd8\\Documents\\__Devs\\Tests\\venv\\lib\\site-packages\\pygments\\regexopt.py\", line 77, in regex_opt_inner\n",
      "    '|'.join(regex_opt_inner(list(group[1]), '')\n",
      "  File \"c:\\Users\\ng71cd8\\Documents\\__Devs\\Tests\\venv\\lib\\site-packages\\pygments\\regexopt.py\", line 77, in <genexpr>\n",
      "    '|'.join(regex_opt_inner(list(group[1]), '')\n",
      "  File \"c:\\Users\\ng71cd8\\Documents\\__Devs\\Tests\\venv\\lib\\site-packages\\pygments\\regexopt.py\", line 36, in regex_opt_inner\n",
      "    return open_paren + escape(first) + close_paren\n",
      "  File \"C:\\Users\\ng71cd8\\AppData\\Local\\Programs\\Python\\Python38-32\\lib\\re.py\", line 273, in escape\n",
      "    return pattern.translate(_special_chars_map)\n",
      "RecursionError: maximum recursion depth exceeded while calling a Python object\n",
      "\n",
      "The above exception was the direct cause of the following exception:\n",
      "\n",
      "Traceback (most recent call last):\n",
      "  File \"c:\\Users\\ng71cd8\\Documents\\__Devs\\Tests\\venv\\lib\\site-packages\\IPython\\core\\interactiveshell.py\", line 2057, in showtraceback\n",
      "    stb = self.InteractiveTB.structured_traceback(\n",
      "  File \"c:\\Users\\ng71cd8\\Documents\\__Devs\\Tests\\venv\\lib\\site-packages\\IPython\\core\\ultratb.py\", line 1288, in structured_traceback\n",
      "    return FormattedTB.structured_traceback(\n",
      "  File \"c:\\Users\\ng71cd8\\Documents\\__Devs\\Tests\\venv\\lib\\site-packages\\IPython\\core\\ultratb.py\", line 1177, in structured_traceback\n",
      "    return VerboseTB.structured_traceback(\n",
      "  File \"c:\\Users\\ng71cd8\\Documents\\__Devs\\Tests\\venv\\lib\\site-packages\\IPython\\core\\ultratb.py\", line 1030, in structured_traceback\n",
      "    formatted_exception = self.format_exception_as_a_whole(etype, evalue, etb, number_of_lines_of_context,\n",
      "  File \"c:\\Users\\ng71cd8\\Documents\\__Devs\\Tests\\venv\\lib\\site-packages\\IPython\\core\\ultratb.py\", line 960, in format_exception_as_a_whole\n",
      "    frames.append(self.format_record(record))\n",
      "  File \"c:\\Users\\ng71cd8\\Documents\\__Devs\\Tests\\venv\\lib\\site-packages\\IPython\\core\\ultratb.py\", line 869, in format_record\n",
      "    _format_traceback_lines(\n",
      "  File \"c:\\Users\\ng71cd8\\Documents\\__Devs\\Tests\\venv\\lib\\site-packages\\IPython\\core\\ultratb.py\", line 158, in _format_traceback_lines\n",
      "    line = stack_line.render(pygmented=has_colors).rstrip('\\n') + '\\n'\n",
      "  File \"c:\\Users\\ng71cd8\\Documents\\__Devs\\Tests\\venv\\lib\\site-packages\\stack_data\\core.py\", line 391, in render\n",
      "    start_line, lines = self.frame_info._pygmented_scope_lines\n",
      "  File \"c:\\Users\\ng71cd8\\Documents\\__Devs\\Tests\\venv\\lib\\site-packages\\stack_data\\utils.py\", line 144, in cached_property_wrapper\n",
      "    value = obj.__dict__[self.func.__name__] = self.func(obj)\n",
      "  File \"c:\\Users\\ng71cd8\\Documents\\__Devs\\Tests\\venv\\lib\\site-packages\\stack_data\\core.py\", line 824, in _pygmented_scope_lines\n",
      "    lines = _pygmented_with_ranges(formatter, code, ranges)\n",
      "  File \"c:\\Users\\ng71cd8\\Documents\\__Devs\\Tests\\venv\\lib\\site-packages\\stack_data\\utils.py\", line 163, in _pygmented_with_ranges\n",
      "    lexer = MyLexer(stripnl=False)\n",
      "  File \"c:\\Users\\ng71cd8\\Documents\\__Devs\\Tests\\venv\\lib\\site-packages\\pygments\\lexer.py\", line 581, in __call__\n",
      "    cls._tokens = cls.process_tokendef('', cls.get_tokendefs())\n",
      "  File \"c:\\Users\\ng71cd8\\Documents\\__Devs\\Tests\\venv\\lib\\site-packages\\pygments\\lexer.py\", line 520, in process_tokendef\n",
      "    cls._process_state(tokendefs, processed, state)\n",
      "  File \"c:\\Users\\ng71cd8\\Documents\\__Devs\\Tests\\venv\\lib\\site-packages\\pygments\\lexer.py\", line 483, in _process_state\n",
      "    tokens.extend(cls._process_state(unprocessed, processed,\n",
      "  File \"c:\\Users\\ng71cd8\\Documents\\__Devs\\Tests\\venv\\lib\\site-packages\\pygments\\lexer.py\", line 483, in _process_state\n",
      "    tokens.extend(cls._process_state(unprocessed, processed,\n",
      "  File \"c:\\Users\\ng71cd8\\Documents\\__Devs\\Tests\\venv\\lib\\site-packages\\pygments\\lexer.py\", line 501, in _process_state\n",
      "    raise ValueError(\"uncompilable regex %r in state %r of %r: %s\" %\n",
      "ValueError: uncompilable regex <pygments.lexer.words object at 0x03F312F8> in state 'builtins' of <class 'stack_data.utils._pygmented_with_ranges.<locals>.MyLexer'>: maximum recursion depth exceeded while calling a Python object\n"
     ]
    }
   ],
   "source": [
    "lista = iter([1,2,3])\n",
    "print(next(lista))\n",
    "print(next(lista))\n",
    "print(next(lista))\n",
    "print(next(lista))"
   ]
  },
  {
   "attachments": {},
   "cell_type": "markdown",
   "metadata": {},
   "source": [
    "## Generators for Infinite Sequences"
   ]
  },
  {
   "cell_type": "code",
   "execution_count": 2,
   "metadata": {},
   "outputs": [],
   "source": [
    "def generate_powers_of_two():\n",
    "    num = 0\n",
    "    while True:\n",
    "        num = num +1\n",
    "        yield 2 ** num\n",
    "\n",
    "g = generate_powers_of_two()"
   ]
  },
  {
   "cell_type": "code",
   "execution_count": 3,
   "metadata": {},
   "outputs": [
    {
     "name": "stdout",
     "output_type": "stream",
     "text": [
      "4\n",
      "8\n",
      "16\n",
      "32\n",
      "64\n",
      "128\n",
      "256\n",
      "512\n",
      "1024\n",
      "2048\n"
     ]
    }
   ],
   "source": [
    "next(g)\n",
    "count = 0\n",
    "for p in g:\n",
    "    print(p)\n",
    "\n",
    "    count +=1\n",
    "    if count == 10:\n",
    "        break\n"
   ]
  },
  {
   "attachments": {},
   "cell_type": "markdown",
   "metadata": {},
   "source": [
    "### CLOSURES"
   ]
  },
  {
   "cell_type": "code",
   "execution_count": 4,
   "metadata": {},
   "outputs": [],
   "source": [
    "def nested_hello():\n",
    "    def hello():\n",
    "        print(\"Hello!\")\n",
    "    \n",
    "    hello()"
   ]
  },
  {
   "cell_type": "code",
   "execution_count": 5,
   "metadata": {},
   "outputs": [
    {
     "name": "stdout",
     "output_type": "stream",
     "text": [
      "Hello!\n"
     ]
    }
   ],
   "source": [
    "nested_hello()"
   ]
  },
  {
   "cell_type": "code",
   "execution_count": 6,
   "metadata": {},
   "outputs": [
    {
     "ename": "NameError",
     "evalue": "name 'hello' is not defined",
     "output_type": "error",
     "traceback": [
      "\u001b[1;31m---------------------------------------------------------------------------\u001b[0m",
      "\u001b[1;31mNameError\u001b[0m                                 Traceback (most recent call last)",
      "Cell \u001b[1;32mIn[6], line 1\u001b[0m\n\u001b[1;32m----> 1\u001b[0m hello()\n",
      "\u001b[1;31mNameError\u001b[0m: name 'hello' is not defined"
     ]
    }
   ],
   "source": [
    "hello()"
   ]
  },
  {
   "attachments": {},
   "cell_type": "markdown",
   "metadata": {},
   "source": [
    "#### DECORATORS\n",
    "Add functionality to existing code WITHOUT modifying the code"
   ]
  },
  {
   "cell_type": "code",
   "execution_count": 7,
   "metadata": {},
   "outputs": [
    {
     "name": "stdout",
     "output_type": "stream",
     "text": [
      "decorators are cool!\n"
     ]
    }
   ],
   "source": [
    "def print_message():\n",
    "    print(\"decorators are cool!\")\n",
    "\n",
    "print_message()"
   ]
  },
  {
   "cell_type": "code",
   "execution_count": 8,
   "metadata": {},
   "outputs": [],
   "source": [
    "import random\n",
    "\n",
    "def highlight():\n",
    "    annotations = [\"-\", \"*\", \"+\"]\n",
    "    annotate = random.choice(annotations)\n",
    "\n",
    "    print(annotate * 50)\n",
    "    print_message()\n",
    "    print(annotate * 50)"
   ]
  },
  {
   "cell_type": "code",
   "execution_count": 9,
   "metadata": {},
   "outputs": [
    {
     "name": "stdout",
     "output_type": "stream",
     "text": [
      "++++++++++++++++++++++++++++++++++++++++++++++++++\n",
      "decorators are cool!\n",
      "++++++++++++++++++++++++++++++++++++++++++++++++++\n"
     ]
    }
   ],
   "source": [
    "highlight()"
   ]
  },
  {
   "cell_type": "code",
   "execution_count": 12,
   "metadata": {},
   "outputs": [],
   "source": [
    "def print_another_message():\n",
    "    print(\"Decorators are clousures!\")\n",
    "\n",
    "def make_highlighted(func):\n",
    "    annotations = [\"-\", \"*\", \"+\"]\n",
    "    annotate = random.choice(annotations)\n",
    "\n",
    "    def highlight():\n",
    "        print(annotate * 50)\n",
    "        func()\n",
    "        print(annotate * 50)\n",
    "\n",
    "    return highlight"
   ]
  },
  {
   "cell_type": "code",
   "execution_count": 15,
   "metadata": {},
   "outputs": [
    {
     "name": "stdout",
     "output_type": "stream",
     "text": [
      "decorators are cool!\n",
      "Decorators are clousures!\n",
      "++++++++++++++++++++++++++++++++++++++++++++++++++\n",
      "decorators are cool!\n",
      "++++++++++++++++++++++++++++++++++++++++++++++++++\n",
      "--------------------------------------------------\n",
      "Decorators are clousures!\n",
      "--------------------------------------------------\n"
     ]
    }
   ],
   "source": [
    "print_message()\n",
    "print_another_message()\n",
    "high_and_print_message = make_highlighted(print_message)\n",
    "high_and_print_another_message = make_highlighted(print_another_message)\n",
    "high_and_print_message()\n",
    "high_and_print_another_message()"
   ]
  },
  {
   "cell_type": "code",
   "execution_count": 16,
   "metadata": {},
   "outputs": [],
   "source": [
    "@make_highlighted\n",
    "def print_a_third_message():\n",
    "    print(\"now you're ussing decorators\")"
   ]
  },
  {
   "cell_type": "code",
   "execution_count": 17,
   "metadata": {},
   "outputs": [
    {
     "name": "stdout",
     "output_type": "stream",
     "text": [
      "++++++++++++++++++++++++++++++++++++++++++++++++++\n",
      "now you're ussing decorators\n",
      "++++++++++++++++++++++++++++++++++++++++++++++++++\n"
     ]
    }
   ],
   "source": [
    "print_a_third_message()"
   ]
  },
  {
   "cell_type": "code",
   "execution_count": 18,
   "metadata": {},
   "outputs": [],
   "source": [
    "@make_highlighted\n",
    "def print_any_message(message):\n",
    "    print(message)"
   ]
  },
  {
   "cell_type": "code",
   "execution_count": 20,
   "metadata": {},
   "outputs": [
    {
     "ename": "TypeError",
     "evalue": "highlight() takes 0 positional arguments but 1 was given",
     "output_type": "error",
     "traceback": [
      "\u001b[1;31m---------------------------------------------------------------------------\u001b[0m",
      "\u001b[1;31mTypeError\u001b[0m                                 Traceback (most recent call last)",
      "Cell \u001b[1;32mIn[20], line 1\u001b[0m\n\u001b[1;32m----> 1\u001b[0m print_any_message(\u001b[39m\"\u001b[39;49m\u001b[39mnow i undestand decorators\u001b[39;49m\u001b[39m\"\u001b[39;49m)\n\u001b[0;32m      2\u001b[0m print_any_message(\u001b[39m\"\u001b[39m\u001b[39mnot really\u001b[39m\u001b[39m\"\u001b[39m)\n",
      "\u001b[1;31mTypeError\u001b[0m: highlight() takes 0 positional arguments but 1 was given"
     ]
    }
   ],
   "source": [
    "print_any_message(\"now i undestand decorators\")\n",
    "print_any_message(\"not really\")"
   ]
  },
  {
   "cell_type": "code",
   "execution_count": 34,
   "metadata": {},
   "outputs": [
    {
     "name": "stdout",
     "output_type": "stream",
     "text": [
      "++++++++++++++++++++++++++++++++++++++++++++++++++\n",
      "now i undestand decorators\n",
      "++++++++++++++++++++++++++++++++++++++++++++++++++\n",
      "++++++++++++++++++++++++++++++++++++++++++++++++++\n",
      "maybe\n",
      "++++++++++++++++++++++++++++++++++++++++++++++++++\n"
     ]
    }
   ],
   "source": [
    "def make_highlighted(func):\n",
    "    annotations = [\"-\", \"*\", \"+\"]\n",
    "    annotate = random.choice(annotations)\n",
    "\n",
    "    def highlight(*args):\n",
    "        print(annotate * 50)\n",
    "        func(*args)\n",
    "        print(annotate * 50)\n",
    "\n",
    "    return highlight\n",
    "\n",
    "@make_highlighted\n",
    "def print_any_message(message):\n",
    "    print(message)\n",
    "\n",
    "print_any_message(\"now i undestand decorators\")\n",
    "print_any_message(\"maybe\")"
   ]
  },
  {
   "cell_type": "code",
   "execution_count": 26,
   "metadata": {},
   "outputs": [
    {
     "name": "stdout",
     "output_type": "stream",
     "text": [
      "78.53981633974483\n",
      "12.566370614359172\n"
     ]
    }
   ],
   "source": [
    "import math\n",
    "\n",
    "def area_circle_fn(radius):\n",
    "    \"\"\"radius must be a possitive value\"\"\"\n",
    "\n",
    "    return math.pi * radius * radius\n",
    "\n",
    "print(area_circle_fn(5))\n",
    "\n",
    "# nagative values should fail\n",
    "print(area_circle_fn(-2))"
   ]
  },
  {
   "cell_type": "code",
   "execution_count": 27,
   "metadata": {},
   "outputs": [],
   "source": [
    "def safe_calculate(func):\n",
    "\n",
    "    # this is a closure\n",
    "    def calculate(r):\n",
    "        if r <= 0:\n",
    "            raise ValueError(\"Radius can't be negatiove or zero\")\n",
    "        \n",
    "        return(func(r))\n",
    "    \n",
    "    return calculate"
   ]
  },
  {
   "cell_type": "code",
   "execution_count": 29,
   "metadata": {},
   "outputs": [
    {
     "ename": "ValueError",
     "evalue": "Radius can't be negatiove or zero",
     "output_type": "error",
     "traceback": [
      "\u001b[1;31m---------------------------------------------------------------------------\u001b[0m",
      "\u001b[1;31mValueError\u001b[0m                                Traceback (most recent call last)",
      "Cell \u001b[1;32mIn[29], line 2\u001b[0m\n\u001b[0;32m      1\u001b[0m area_circle_safe \u001b[39m=\u001b[39m safe_calculate(area_circle_fn)\n\u001b[1;32m----> 2\u001b[0m \u001b[39mprint\u001b[39m(area_circle_safe(\u001b[39m-\u001b[39;49m\u001b[39m3\u001b[39;49m))\n",
      "Cell \u001b[1;32mIn[27], line 5\u001b[0m, in \u001b[0;36msafe_calculate.<locals>.calculate\u001b[1;34m(r)\u001b[0m\n\u001b[0;32m      3\u001b[0m \u001b[39mdef\u001b[39;00m \u001b[39mcalculate\u001b[39m(r):\n\u001b[0;32m      4\u001b[0m     \u001b[39mif\u001b[39;00m r \u001b[39m<\u001b[39m\u001b[39m=\u001b[39m \u001b[39m0\u001b[39m:\n\u001b[1;32m----> 5\u001b[0m         \u001b[39mraise\u001b[39;00m \u001b[39mValueError\u001b[39;00m(\u001b[39m\"\u001b[39m\u001b[39mRadius can\u001b[39m\u001b[39m'\u001b[39m\u001b[39mt be negatiove or zero\u001b[39m\u001b[39m\"\u001b[39m)\n\u001b[0;32m      7\u001b[0m     \u001b[39mreturn\u001b[39;00m(func(r))\n",
      "\u001b[1;31mValueError\u001b[0m: Radius can't be negatiove or zero"
     ]
    }
   ],
   "source": [
    "area_circle_safe = safe_calculate(area_circle_fn)\n",
    "print(area_circle_safe(-3))"
   ]
  },
  {
   "cell_type": "code",
   "execution_count": 30,
   "metadata": {},
   "outputs": [
    {
     "name": "stdout",
     "output_type": "stream",
     "text": [
      "50.26548245743669\n"
     ]
    },
    {
     "ename": "ValueError",
     "evalue": "Radius can't be negatiove or zero",
     "output_type": "error",
     "traceback": [
      "\u001b[1;31m---------------------------------------------------------------------------\u001b[0m",
      "\u001b[1;31mValueError\u001b[0m                                Traceback (most recent call last)",
      "Cell \u001b[1;32mIn[30], line 9\u001b[0m\n\u001b[0;32m      5\u001b[0m     \u001b[39mreturn\u001b[39;00m math\u001b[39m.\u001b[39mpi \u001b[39m*\u001b[39m radius \u001b[39m*\u001b[39m radius\n\u001b[0;32m      7\u001b[0m \u001b[39mprint\u001b[39m(area_circle_fn(\u001b[39m4\u001b[39m))\n\u001b[1;32m----> 9\u001b[0m \u001b[39mprint\u001b[39m(area_circle_fn(\u001b[39m-\u001b[39;49m\u001b[39m4\u001b[39;49m))\n",
      "Cell \u001b[1;32mIn[27], line 5\u001b[0m, in \u001b[0;36msafe_calculate.<locals>.calculate\u001b[1;34m(r)\u001b[0m\n\u001b[0;32m      3\u001b[0m \u001b[39mdef\u001b[39;00m \u001b[39mcalculate\u001b[39m(r):\n\u001b[0;32m      4\u001b[0m     \u001b[39mif\u001b[39;00m r \u001b[39m<\u001b[39m\u001b[39m=\u001b[39m \u001b[39m0\u001b[39m:\n\u001b[1;32m----> 5\u001b[0m         \u001b[39mraise\u001b[39;00m \u001b[39mValueError\u001b[39;00m(\u001b[39m\"\u001b[39m\u001b[39mRadius can\u001b[39m\u001b[39m'\u001b[39m\u001b[39mt be negatiove or zero\u001b[39m\u001b[39m\"\u001b[39m)\n\u001b[0;32m      7\u001b[0m     \u001b[39mreturn\u001b[39;00m(func(r))\n",
      "\u001b[1;31mValueError\u001b[0m: Radius can't be negatiove or zero"
     ]
    }
   ],
   "source": [
    "@safe_calculate\n",
    "def area_circle_fn(radius):\n",
    "    \"\"\"radius must be a possitive value\"\"\"\n",
    "\n",
    "    return math.pi * radius * radius\n",
    "\n",
    "print(area_circle_fn(4))\n",
    "\n",
    "print(area_circle_fn(-4))"
   ]
  },
  {
   "cell_type": "code",
   "execution_count": 31,
   "metadata": {},
   "outputs": [
    {
     "ename": "TypeError",
     "evalue": "calculate() takes 1 positional argument but 2 were given",
     "output_type": "error",
     "traceback": [
      "\u001b[1;31m---------------------------------------------------------------------------\u001b[0m",
      "\u001b[1;31mTypeError\u001b[0m                                 Traceback (most recent call last)",
      "Cell \u001b[1;32mIn[31], line 5\u001b[0m\n\u001b[0;32m      1\u001b[0m \u001b[39m@safe_calculate\u001b[39m\n\u001b[0;32m      2\u001b[0m \u001b[39mdef\u001b[39;00m \u001b[39marea_rectangle_fn\u001b[39m(length, breadth):\n\u001b[0;32m      3\u001b[0m     \u001b[39mreturn\u001b[39;00m length \u001b[39m*\u001b[39m breadth\n\u001b[1;32m----> 5\u001b[0m area_rectangle_fn(\u001b[39m3\u001b[39;49m,\u001b[39m4\u001b[39;49m)\n",
      "\u001b[1;31mTypeError\u001b[0m: calculate() takes 1 positional argument but 2 were given"
     ]
    }
   ],
   "source": [
    "@safe_calculate\n",
    "def area_rectangle_fn(length, breadth):\n",
    "    return length * breadth\n",
    "\n",
    "area_rectangle_fn(3,4)"
   ]
  },
  {
   "cell_type": "code",
   "execution_count": 32,
   "metadata": {},
   "outputs": [
    {
     "data": {
      "text/plain": [
       "12"
      ]
     },
     "execution_count": 32,
     "metadata": {},
     "output_type": "execute_result"
    }
   ],
   "source": [
    "def safe_calculate_all(func):\n",
    "    def calculate(*args):\n",
    "        for arg in args:\n",
    "            if arg <= 0:\n",
    "                raise ValueError(\"Argument can't be negative or zero\")\n",
    "        return func(*args)\n",
    "    return calculate\n",
    "\n",
    "@safe_calculate_all\n",
    "def area_rectangle_fn(length, breadth):\n",
    "    return length * breadth\n",
    "\n",
    "area_rectangle_fn(3,4)"
   ]
  },
  {
   "attachments": {},
   "cell_type": "markdown",
   "metadata": {},
   "source": [
    "Decorators can be chained\n",
    "decorator near the function will be executed first"
   ]
  },
  {
   "cell_type": "code",
   "execution_count": 37,
   "metadata": {},
   "outputs": [
    {
     "name": "stdout",
     "output_type": "stream",
     "text": [
      "++++++++++++++++++++++++++++++++++++++++++++++++++\n",
      "4\n",
      "++++++++++++++++++++++++++++++++++++++++++++++++++\n",
      "++++++++++++++++++++++++++++++++++++++++++++++++++\n"
     ]
    },
    {
     "ename": "ValueError",
     "evalue": "Argument can't be negative or zero",
     "output_type": "error",
     "traceback": [
      "\u001b[1;31m---------------------------------------------------------------------------\u001b[0m",
      "\u001b[1;31mValueError\u001b[0m                                Traceback (most recent call last)",
      "Cell \u001b[1;32mIn[37], line 7\u001b[0m\n\u001b[0;32m      4\u001b[0m     \u001b[39mprint\u001b[39m(message)\n\u001b[0;32m      6\u001b[0m print_possitive_numbers(\u001b[39m4\u001b[39m)\n\u001b[1;32m----> 7\u001b[0m print_possitive_numbers(\u001b[39m-\u001b[39;49m\u001b[39m3\u001b[39;49m)\n",
      "Cell \u001b[1;32mIn[34], line 7\u001b[0m, in \u001b[0;36mmake_highlighted.<locals>.highlight\u001b[1;34m(*args)\u001b[0m\n\u001b[0;32m      5\u001b[0m \u001b[39mdef\u001b[39;00m \u001b[39mhighlight\u001b[39m(\u001b[39m*\u001b[39margs):\n\u001b[0;32m      6\u001b[0m     \u001b[39mprint\u001b[39m(annotate \u001b[39m*\u001b[39m \u001b[39m50\u001b[39m)\n\u001b[1;32m----> 7\u001b[0m     func(\u001b[39m*\u001b[39;49margs)\n\u001b[0;32m      8\u001b[0m     \u001b[39mprint\u001b[39m(annotate \u001b[39m*\u001b[39m \u001b[39m50\u001b[39m)\n",
      "Cell \u001b[1;32mIn[32], line 5\u001b[0m, in \u001b[0;36msafe_calculate_all.<locals>.calculate\u001b[1;34m(*args)\u001b[0m\n\u001b[0;32m      3\u001b[0m \u001b[39mfor\u001b[39;00m arg \u001b[39min\u001b[39;00m args:\n\u001b[0;32m      4\u001b[0m     \u001b[39mif\u001b[39;00m arg \u001b[39m<\u001b[39m\u001b[39m=\u001b[39m \u001b[39m0\u001b[39m:\n\u001b[1;32m----> 5\u001b[0m         \u001b[39mraise\u001b[39;00m \u001b[39mValueError\u001b[39;00m(\u001b[39m\"\u001b[39m\u001b[39mArgument can\u001b[39m\u001b[39m'\u001b[39m\u001b[39mt be negative or zero\u001b[39m\u001b[39m\"\u001b[39m)\n\u001b[0;32m      6\u001b[0m \u001b[39mreturn\u001b[39;00m func(\u001b[39m*\u001b[39margs)\n",
      "\u001b[1;31mValueError\u001b[0m: Argument can't be negative or zero"
     ]
    }
   ],
   "source": [
    "@make_highlighted\n",
    "@safe_calculate_all\n",
    "def print_possitive_numbers(message):\n",
    "    print(message)\n",
    "\n",
    "print_possitive_numbers(4)\n",
    "print_possitive_numbers(-3)"
   ]
  },
  {
   "cell_type": "code",
   "execution_count": null,
   "metadata": {},
   "outputs": [],
   "source": []
  },
  {
   "cell_type": "code",
   "execution_count": null,
   "metadata": {},
   "outputs": [],
   "source": []
  },
  {
   "cell_type": "code",
   "execution_count": null,
   "metadata": {},
   "outputs": [],
   "source": []
  },
  {
   "cell_type": "code",
   "execution_count": null,
   "metadata": {},
   "outputs": [],
   "source": []
  },
  {
   "cell_type": "code",
   "execution_count": null,
   "metadata": {},
   "outputs": [],
   "source": []
  },
  {
   "cell_type": "code",
   "execution_count": null,
   "metadata": {},
   "outputs": [],
   "source": []
  }
 ],
 "metadata": {
  "kernelspec": {
   "display_name": "venv",
   "language": "python",
   "name": "python3"
  },
  "language_info": {
   "codemirror_mode": {
    "name": "ipython",
    "version": 3
   },
   "file_extension": ".py",
   "mimetype": "text/x-python",
   "name": "python",
   "nbconvert_exporter": "python",
   "pygments_lexer": "ipython3",
   "version": "3.8.2"
  },
  "orig_nbformat": 4
 },
 "nbformat": 4,
 "nbformat_minor": 2
}
